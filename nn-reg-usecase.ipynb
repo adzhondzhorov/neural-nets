{
 "cells": [
  {
   "cell_type": "code",
   "execution_count": 1,
   "id": "03b7cbf3-f5ab-4e76-896e-fcc8f3a3a936",
   "metadata": {},
   "outputs": [],
   "source": [
    "backend = \"pt_backend\""
   ]
  },
  {
   "cell_type": "code",
   "execution_count": 2,
   "id": "d305f180-0341-45a6-8372-29188ea2d7b8",
   "metadata": {},
   "outputs": [],
   "source": [
    "import time\n",
    "import numpy as np\n",
    "\n",
    "np.random.seed(0)\n",
    "\n",
    "match backend:\n",
    "    case \"original_backend\":\n",
    "        from lib.original_backend.linear_algebra import Matrix\n",
    "        from lib.original_backend.nn import  NN, ReLU, Linear\n",
    "        from lib.original_backend.processing import ColumnNormalizer\n",
    "        from lib.optimizers import SgdOptimizer, SgdWithMomentumOptimizer, AdaGradOptimizer, RmsPropOptimizer, AdamOptimizer\n",
    "\n",
    "    case \"np_backend\":\n",
    "        from lib.np_backend.linear_algebra import Matrix\n",
    "        from lib.np_backend.nn import NN, ReLU, Linear\n",
    "        from lib.np_backend.processing import ColumnNormalizer\n",
    "        from lib.optimizers import SgdOptimizer, SgdWithMomentumOptimizer, AdaGradOptimizer, RmsPropOptimizer, AdamOptimizer\n",
    "\n",
    "    case \"pt_backend\":\n",
    "        from lib.pt_backend.linear_algebra import Matrix\n",
    "        from lib.pt_backend.nn import NN, ReLU, Linear\n",
    "        from lib.pt_backend.processing import ColumnNormalizer\n",
    "        from lib.pt_backend.optimizers import SgdOptimizer, SgdWithMomentumOptimizer, AdaGradOptimizer, RmsPropOptimizer, AdamOptimizer\n",
    "\n",
    "from lib.metrics.losses import mean_squared_error\n",
    "from lib.gd_data_loaders import BatchDataLoader, StochasticDataLoader, MiniBatchDataLoader"
   ]
  },
  {
   "cell_type": "code",
   "execution_count": 3,
   "id": "a2d99b45-d102-4f86-ba2b-3fc6b4732e36",
   "metadata": {},
   "outputs": [],
   "source": [
    "# Boston House Price Dataset\n",
    "# The Boston House Price Dataset involves the prediction of a house price in thousands of dollars given details of the house and its neighborhood.\n",
    "# It is a regression problem. There are 506 observations with 13 input variables and 1 output variable. The variable names are as follows:\n",
    "\n",
    "data = []\n",
    "with open(\"data/boston_house_prices.data\", \"rt\") as f:\n",
    "    for line in f.readlines():\n",
    "        data.append([float(v) for v in line.split()])\n",
    "data = np.array(data)"
   ]
  },
  {
   "cell_type": "code",
   "execution_count": 4,
   "id": "e2b079e8-9f3a-4224-a611-449df789337c",
   "metadata": {},
   "outputs": [
    {
     "data": {
      "text/plain": [
       "(torch.Size([404, 13]),\n",
       " torch.Size([404, 1]),\n",
       " torch.Size([102, 13]),\n",
       " torch.Size([102, 1]))"
      ]
     },
     "execution_count": 4,
     "metadata": {},
     "output_type": "execute_result"
    }
   ],
   "source": [
    "np.random.shuffle(data)\n",
    "split = int(len(data) * 0.8)\n",
    "train_set = data[:split]\n",
    "test_set = data[split:]\n",
    "\n",
    "X_train, y_train = train_set[:, :-1], train_set[:, -1:]\n",
    "X_test, y_test = test_set[:, :-1], test_set[:, -1:]\n",
    "X_train = Matrix(X_train)\n",
    "y_train = Matrix(y_train)\n",
    "X_test = Matrix(X_test)\n",
    "y_test = Matrix(y_test)\n",
    "X_train.dims(), y_train.dims(), X_test.dims(), y_test.dims()"
   ]
  },
  {
   "cell_type": "code",
   "execution_count": 5,
   "id": "495365f8-f306-42e6-9ba7-dc7ce463b92c",
   "metadata": {},
   "outputs": [
    {
     "data": {
      "text/plain": [
       "(torch.Size([404, 13]), torch.Size([102, 13]))"
      ]
     },
     "execution_count": 5,
     "metadata": {},
     "output_type": "execute_result"
    }
   ],
   "source": [
    "normalizer = ColumnNormalizer()\n",
    "normalizer.fit(X_train)\n",
    "X_train = normalizer.transform(X_train)\n",
    "X_test = normalizer.transform(X_test)\n",
    "X_train.dims(), X_test.dims()"
   ]
  },
  {
   "cell_type": "code",
   "execution_count": 6,
   "id": "d72cc6c4-edcc-40f2-a8fa-172eb5988a4f",
   "metadata": {},
   "outputs": [],
   "source": [
    "def init_nn():\n",
    "    return NN([\n",
    "        Linear(13, 4),\n",
    "        ReLU(),\n",
    "        Linear(4, 1),\n",
    "    ])"
   ]
  },
  {
   "cell_type": "code",
   "execution_count": 7,
   "id": "6f66f69f-6592-45be-b963-3ae966069ce9",
   "metadata": {},
   "outputs": [
    {
     "name": "stdout",
     "output_type": "stream",
     "text": [
      "gradient descent: <class 'lib.gd_data_loaders.MiniBatchDataLoader'> | optimizer: <class 'lib.pt_backend.optimizers.AdaGradOptimizer'>\n",
      "0 | 595.12 | 0s\n",
      "100 | 87.60 | 0s\n",
      "200 | 34.37 | 0s\n",
      "300 | 20.49 | 0s\n",
      "400 | 22.19 | 0s\n",
      "500 | 42.83 | 0s\n",
      "600 | 13.46 | 0s\n",
      "700 | 28.37 | 0s\n",
      "800 | 23.08 | 0s\n",
      "900 | 34.97 | 0s\n",
      "1000 | 25.05 | 0s\n",
      "1100 | 22.15 | 0s\n",
      "1200 | 14.42 | 0s\n",
      "1300 | 17.76 | 0s\n",
      "1400 | 14.82 | 0s\n",
      "1500 | 15.67 | 0s\n",
      "1600 | 16.74 | 0s\n",
      "1700 | 30.43 | 0s\n",
      "1800 | 14.51 | 0s\n",
      "1900 | 24.72 | 0s\n",
      "2000 | 29.81 | 0s\n",
      "train loss: 19.99   test loss: 22.06\n",
      "gradient descent: <class 'lib.gd_data_loaders.MiniBatchDataLoader'> | optimizer: <class 'lib.pt_backend.optimizers.RmsPropOptimizer'>\n",
      "0 | 571.61 | 0s\n",
      "100 | 59.30 | 0s\n",
      "200 | 59.27 | 0s\n",
      "300 | 10.24 | 0s\n",
      "400 | 14.48 | 0s\n",
      "500 | 14.31 | 0s\n",
      "600 | 14.91 | 0s\n",
      "700 | 11.01 | 0s\n",
      "800 | 31.01 | 0s\n",
      "900 | 20.74 | 0s\n",
      "1000 | 13.60 | 0s\n",
      "1100 | 17.26 | 0s\n",
      "1200 | 17.99 | 0s\n",
      "1300 | 8.14 | 0s\n",
      "1400 | 18.23 | 0s\n",
      "1500 | 19.44 | 0s\n",
      "1600 | 12.64 | 0s\n",
      "1700 | 11.24 | 0s\n",
      "1800 | 11.59 | 0s\n",
      "1900 | 9.75 | 0s\n",
      "2000 | 4.88 | 0s\n",
      "train loss: 13.99   test loss: 10.31\n",
      "gradient descent: <class 'lib.gd_data_loaders.MiniBatchDataLoader'> | optimizer: <class 'lib.pt_backend.optimizers.AdamOptimizer'>\n",
      "0 | 632.70 | 0s\n",
      "100 | 265.37 | 0s\n",
      "200 | 47.11 | 0s\n",
      "300 | 17.28 | 0s\n",
      "400 | 12.22 | 0s\n",
      "500 | 14.11 | 0s\n",
      "600 | 11.63 | 0s\n",
      "700 | 10.03 | 0s\n",
      "800 | 25.95 | 0s\n",
      "900 | 10.28 | 0s\n",
      "1000 | 15.77 | 0s\n",
      "1100 | 12.04 | 0s\n",
      "1200 | 11.66 | 0s\n",
      "1300 | 5.43 | 0s\n",
      "1400 | 5.02 | 0s\n",
      "1500 | 18.32 | 0s\n",
      "1600 | 9.93 | 0s\n",
      "1700 | 9.92 | 0s\n",
      "1800 | 11.76 | 0s\n",
      "1900 | 4.31 | 0s\n",
      "2000 | 6.01 | 0s\n",
      "train loss: 10.53   test loss: 8.71\n"
     ]
    }
   ],
   "source": [
    "time_point = time.time()\n",
    "\n",
    "data_loaders = [\n",
    "    # BatchDataLoader(X_train, y_train),\n",
    "    # StochasticDataLoader(X_train, y_train),\n",
    "    MiniBatchDataLoader(X_train, y_train, 32)\n",
    "]\n",
    "optimizer_creators = [\n",
    "    # lambda nn: SgdOptimizer(nn, 0.001),\n",
    "    # lambda nn: SgdWithMomentumOptimizer(nn, 0.001, 0.9),\n",
    "    lambda nn: AdaGradOptimizer(nn, 0.05),\n",
    "    lambda nn: RmsPropOptimizer(nn, 0.01, 0.95),\n",
    "    lambda nn: AdamOptimizer(nn, 0.01, 0.95, 0.95),\n",
    "]\n",
    "\n",
    "for data_loader in data_loaders:\n",
    "    for optimizer_creator in optimizer_creators:\n",
    "        nn = init_nn()\n",
    "        optimizer = optimizer_creator(nn)\n",
    "        print(f\"gradient descent: {data_loader.__class__} | optimizer: {optimizer.__class__}\")\n",
    "        for i in range(2001):\n",
    "            X_b, y_b = data_loader.get_batch()\n",
    "            out = nn(X_b)\n",
    "            loss = mean_squared_error(y_b, out)\n",
    "            if i % 100 == 0:\n",
    "                elapsed_time = int(time.time() - time_point)\n",
    "                time_point = time.time()\n",
    "                print(f\"{i} | {loss.data:.2f} | {elapsed_time}s\") \n",
    "\n",
    "            optimizer.step(loss)\n",
    "\n",
    "        train_out = nn(X_train) \n",
    "        train_loss = mean_squared_error(y_train, train_out)\n",
    "        test_out = nn(X_test) \n",
    "        test_loss = mean_squared_error(y_test, test_out)\n",
    "        print(f\"train loss: {train_loss.data:.2f}   test loss: {test_loss.data:.2f}\") "
   ]
  },
  {
   "cell_type": "code",
   "execution_count": 8,
   "id": "a35a35ec-a1ca-4b71-886d-28d92db4588b",
   "metadata": {},
   "outputs": [
    {
     "data": {
      "text/plain": [
       "[(15.8, 20.700000762939453),\n",
       " (14.5, 39.79999923706055),\n",
       " (9.7, 17.799999237060547),\n",
       " (23.5, 19.600000381469727),\n",
       " (16.7, 14.899999618530273),\n",
       " (9.2, 22.0),\n",
       " (16.4, 48.79999923706055),\n",
       " (40.7, 25.0),\n",
       " (16.4, 48.5),\n",
       " (17.5, 23.899999618530273)]"
      ]
     },
     "execution_count": 8,
     "metadata": {},
     "output_type": "execute_result"
    }
   ],
   "source": [
    "[(round(float(v1),1), float(v2)) for v1, v2 in zip([v[0].data for v in out], [v[0].data for v in y_test])][:10]"
   ]
  },
  {
   "cell_type": "code",
   "execution_count": 9,
   "id": "e4948560-e2d4-4eef-8ff9-6cbf24a8fba9",
   "metadata": {},
   "outputs": [
    {
     "ename": "SyntaxError",
     "evalue": "invalid decimal literal (3551842227.py, line 2)",
     "output_type": "error",
     "traceback": [
      "\u001b[0;36m  Cell \u001b[0;32mIn[9], line 2\u001b[0;36m\u001b[0m\n\u001b[0;31m    0 | 580.47 | 0s\u001b[0m\n\u001b[0m                 ^\u001b[0m\n\u001b[0;31mSyntaxError\u001b[0m\u001b[0;31m:\u001b[0m invalid decimal literal\n"
     ]
    }
   ],
   "source": [
    "gradient descent: <class 'lib.gd_data_loaders.MiniBatchDataLoader'> | optimizer: <class 'lib.optimizers.AdaGradOptimizer'>\n",
    "0 | 580.47 | 0s\n",
    "100 | 205.61 | 11s\n",
    "200 | 35.91 | 13s\n",
    "300 | 31.69 | 11s\n",
    "400 | 43.72 | 11s\n",
    "500 | 78.20 | 12s\n",
    "600 | 17.42 | 11s\n",
    "700 | 38.73 | 11s\n",
    "800 | 38.90 | 11s\n",
    "900 | 9.81 | 11s\n",
    "1000 | 18.67 | 12s\n",
    "1100 | 20.35 | 13s\n",
    "1200 | 11.91 | 11s\n",
    "1300 | 9.77 | 13s\n",
    "1400 | 14.41 | 12s\n",
    "1500 | 18.66 | 15s\n",
    "1600 | 16.21 | 12s\n",
    "1700 | 11.52 | 13s\n",
    "1800 | 9.95 | 12s\n",
    "1900 | 12.19 | 11s\n",
    "2000 | 15.00 | 11s\n",
    "train loss: 20.91   test loss: 20.94\n",
    "gradient descent: <class 'lib.gd_data_loaders.MiniBatchDataLoader'> | optimizer: <class 'lib.optimizers.RmsPropOptimizer'>\n",
    "0 | 451.70 | 1s\n",
    "100 | 96.17 | 15s\n",
    "200 | 67.43 | 14s\n",
    "300 | 14.20 | 15s\n",
    "400 | 29.44 | 15s\n",
    "500 | 8.97 | 15s\n",
    "600 | 7.00 | 15s\n",
    "700 | 22.93 | 16s\n",
    "800 | 20.84 | 14s\n",
    "900 | 29.82 | 14s\n",
    "1000 | 8.39 | 16s\n",
    "1100 | 10.35 | 15s\n",
    "1200 | 15.34 | 15s\n",
    "1300 | 7.63 | 16s\n",
    "1400 | 9.06 | 15s\n",
    "1500 | 6.94 | 15s\n",
    "1600 | 13.59 | 15s\n",
    "1700 | 16.01 | 16s\n",
    "1800 | 7.27 | 15s\n",
    "1900 | 10.61 | 15s\n",
    "2000 | 14.75 | 15s\n",
    "train loss: 11.29   test loss: 9.17\n",
    "gradient descent: <class 'lib.gd_data_loaders.MiniBatchDataLoader'> | optimizer: <class 'lib.optimizers.AdamOptimizer'>\n",
    "0 | 749.99 | 2s\n",
    "100 | 131.75 | 15s\n",
    "200 | 26.44 | 14s\n",
    "300 | 47.31 | 15s\n",
    "400 | 14.10 | 15s\n",
    "500 | 16.89 | 14s\n",
    "600 | 11.65 | 15s\n",
    "700 | 30.11 | 15s\n",
    "800 | 7.45 | 16s\n",
    "900 | 7.41 | 16s\n",
    "1000 | 9.48 | 15s\n",
    "1100 | 7.70 | 16s\n",
    "1200 | 11.16 | 16s\n",
    "1300 | 7.07 | 15s\n",
    "1400 | 8.96 | 16s\n",
    "1500 | 11.53 | 16s\n",
    "1600 | 6.08 | 16s\n",
    "1700 | 9.46 | 15s\n",
    "1800 | 23.97 | 16s\n",
    "1900 | 7.37 | 15s\n",
    "2000 | 8.11 | 15s\n",
    "train loss: 12.47   test loss: 10.80"
   ]
  }
 ],
 "metadata": {
  "kernelspec": {
   "display_name": "Python 3.10 (venv)",
   "language": "python",
   "name": "py310"
  },
  "language_info": {
   "codemirror_mode": {
    "name": "ipython",
    "version": 3
   },
   "file_extension": ".py",
   "mimetype": "text/x-python",
   "name": "python",
   "nbconvert_exporter": "python",
   "pygments_lexer": "ipython3",
   "version": "3.10.14"
  }
 },
 "nbformat": 4,
 "nbformat_minor": 5
}
