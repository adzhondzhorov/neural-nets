{
 "cells": [
  {
   "cell_type": "code",
   "execution_count": 1,
   "id": "03b7cbf3-f5ab-4e76-896e-fcc8f3a3a936",
   "metadata": {},
   "outputs": [],
   "source": [
    "backend = \"np_backend\""
   ]
  },
  {
   "cell_type": "code",
   "execution_count": 2,
   "id": "d305f180-0341-45a6-8372-29188ea2d7b8",
   "metadata": {},
   "outputs": [],
   "source": [
    "import time\n",
    "import numpy as np\n",
    "\n",
    "np.random.seed(0)\n",
    "\n",
    "match backend:\n",
    "    case \"original_backend\":\n",
    "        from lib.original_backend.linear_algebra import Matrix\n",
    "        from lib.original_backend.nn import  NN, ReLU, Linear, LayerNorm\n",
    "        from lib.original_backend.processing import ColumnNormalizer\n",
    "        from lib.optimizers import SgdOptimizer, SgdWithMomentumOptimizer, AdaGradOptimizer, RmsPropOptimizer, AdamOptimizer\n",
    "\n",
    "    case \"np_backend\":\n",
    "        from lib.np_backend.linear_algebra import Matrix\n",
    "        from lib.np_backend.nn import NN, ReLU, Linear, LayerNorm\n",
    "        from lib.np_backend.processing import ColumnNormalizer\n",
    "        from lib.optimizers import SgdOptimizer, SgdWithMomentumOptimizer, AdaGradOptimizer, RmsPropOptimizer, AdamOptimizer\n",
    "\n",
    "    case \"pt_backend\":\n",
    "        from lib.pt_backend.linear_algebra import Matrix\n",
    "        from lib.pt_backend.nn import NN, ReLU, Linear\n",
    "        from lib.pt_backend.processing import ColumnNormalizer\n",
    "        from lib.pt_backend.optimizers import SgdOptimizer, SgdWithMomentumOptimizer, AdaGradOptimizer, RmsPropOptimizer, AdamOptimizer\n",
    "\n",
    "from lib.metrics.losses import mean_squared_error\n",
    "from lib.gd_data_loaders import BatchDataLoader, StochasticDataLoader, MiniBatchDataLoader"
   ]
  },
  {
   "cell_type": "code",
   "execution_count": 3,
   "id": "a2d99b45-d102-4f86-ba2b-3fc6b4732e36",
   "metadata": {},
   "outputs": [],
   "source": [
    "# Boston House Price Dataset\n",
    "# The Boston House Price Dataset involves the prediction of a house price in thousands of dollars given details of the house and its neighborhood.\n",
    "# It is a regression problem. There are 506 observations with 13 input variables and 1 output variable. The variable names are as follows:\n",
    "\n",
    "data = []\n",
    "with open(\"data/boston_house_prices.data\", \"rt\") as f:\n",
    "    for line in f.readlines():\n",
    "        data.append([float(v) for v in line.split()])\n",
    "data = np.array(data)"
   ]
  },
  {
   "cell_type": "code",
   "execution_count": 4,
   "id": "e2b079e8-9f3a-4224-a611-449df789337c",
   "metadata": {},
   "outputs": [
    {
     "data": {
      "text/plain": [
       "((404, 13), (404, 1), (102, 13), (102, 1))"
      ]
     },
     "execution_count": 4,
     "metadata": {},
     "output_type": "execute_result"
    }
   ],
   "source": [
    "np.random.shuffle(data)\n",
    "split = int(len(data) * 0.8)\n",
    "train_set = data[:split]\n",
    "test_set = data[split:]\n",
    "\n",
    "X_train, y_train = train_set[:, :-1], train_set[:, -1:]\n",
    "X_test, y_test = test_set[:, :-1], test_set[:, -1:]\n",
    "X_train = Matrix(X_train)\n",
    "y_train = Matrix(y_train)\n",
    "X_test = Matrix(X_test)\n",
    "y_test = Matrix(y_test)\n",
    "X_train.dims(), y_train.dims(), X_test.dims(), y_test.dims()"
   ]
  },
  {
   "cell_type": "code",
   "execution_count": 5,
   "id": "495365f8-f306-42e6-9ba7-dc7ce463b92c",
   "metadata": {},
   "outputs": [
    {
     "data": {
      "text/plain": [
       "((404, 13), (102, 13))"
      ]
     },
     "execution_count": 5,
     "metadata": {},
     "output_type": "execute_result"
    }
   ],
   "source": [
    "normalizer = ColumnNormalizer()\n",
    "normalizer.fit(X_train)\n",
    "X_train = normalizer.transform(X_train)\n",
    "X_test = normalizer.transform(X_test)\n",
    "X_train.dims(), X_test.dims()"
   ]
  },
  {
   "cell_type": "code",
   "execution_count": 6,
   "id": "d72cc6c4-edcc-40f2-a8fa-172eb5988a4f",
   "metadata": {},
   "outputs": [],
   "source": [
    "def init_nn():\n",
    "    return NN([\n",
    "        Linear(13, 4),\n",
    "        LayerNorm(4),\n",
    "        ReLU(),\n",
    "        Linear(4, 1),\n",
    "    ])"
   ]
  },
  {
   "cell_type": "code",
   "execution_count": 7,
   "id": "6f66f69f-6592-45be-b963-3ae966069ce9",
   "metadata": {},
   "outputs": [
    {
     "name": "stdout",
     "output_type": "stream",
     "text": [
      "gradient descent: <class 'lib.gd_data_loaders.MiniBatchDataLoader'> | optimizer: <class 'lib.optimizers.AdaGradOptimizer'>\n",
      "0 | 779.13 | 0s\n",
      "100 | 252.22 | 15s\n",
      "200 | 284.72 | 16s\n",
      "300 | 138.75 | 16s\n",
      "400 | 116.39 | 4s\n",
      "500 | 55.73 | 16s\n",
      "600 | 37.97 | 16s\n",
      "700 | 24.84 | 15s\n",
      "800 | 45.33 | 15s\n",
      "900 | 89.13 | 15s\n",
      "1000 | 32.70 | 15s\n",
      "1100 | 72.07 | 4s\n",
      "1200 | 38.83 | 15s\n",
      "1300 | 65.42 | 16s\n",
      "1400 | 20.61 | 16s\n",
      "1500 | 32.34 | 16s\n",
      "1600 | 44.64 | 16s\n",
      "1700 | 55.61 | 16s\n",
      "1800 | 33.22 | 4s\n",
      "1900 | 36.65 | 15s\n",
      "2000 | 51.23 | 16s\n",
      "train loss: 45.84   test loss: 48.46\n",
      "gradient descent: <class 'lib.gd_data_loaders.MiniBatchDataLoader'> | optimizer: <class 'lib.optimizers.RmsPropOptimizer'>\n",
      "0 | 432.49 | 0s\n",
      "100 | 215.62 | 16s\n",
      "200 | 39.92 | 16s\n",
      "300 | 32.53 | 17s\n",
      "400 | 41.55 | 16s\n",
      "500 | 23.06 | 4s\n",
      "600 | 37.85 | 16s\n",
      "700 | 26.67 | 17s\n",
      "800 | 29.93 | 18s\n",
      "900 | 12.17 | 17s\n",
      "1000 | 51.05 | 18s\n",
      "1100 | 31.85 | 4s\n",
      "1200 | 17.32 | 16s\n",
      "1300 | 32.93 | 17s\n",
      "1400 | 13.84 | 17s\n",
      "1500 | 22.99 | 17s\n",
      "1600 | 68.29 | 17s\n",
      "1700 | 36.92 | 4s\n",
      "1800 | 30.23 | 16s\n",
      "1900 | 10.04 | 16s\n",
      "2000 | 11.10 | 17s\n",
      "train loss: 22.14   test loss: 19.50\n",
      "gradient descent: <class 'lib.gd_data_loaders.MiniBatchDataLoader'> | optimizer: <class 'lib.optimizers.AdamOptimizer'>\n",
      "0 | 610.81 | 0s\n",
      "100 | 382.81 | 18s\n",
      "200 | 130.03 | 17s\n",
      "300 | 36.61 | 17s\n",
      "400 | 21.18 | 4s\n",
      "500 | 110.38 | 17s\n",
      "600 | 17.22 | 17s\n",
      "700 | 27.03 | 17s\n",
      "800 | 20.78 | 17s\n",
      "900 | 26.26 | 5s\n",
      "1000 | 46.93 | 17s\n",
      "1100 | 46.63 | 16s\n",
      "1200 | 46.96 | 16s\n",
      "1300 | 74.87 | 16s\n",
      "1400 | 28.86 | 16s\n",
      "1500 | 45.56 | 4s\n",
      "1600 | 33.27 | 16s\n",
      "1700 | 15.08 | 16s\n",
      "1800 | 21.77 | 18s\n",
      "1900 | 41.67 | 17s\n",
      "2000 | 15.84 | 16s\n",
      "train loss: 24.46   test loss: 25.74\n"
     ]
    }
   ],
   "source": [
    "time_point = time.time()\n",
    "\n",
    "data_loaders = [\n",
    "    # BatchDataLoader(X_train, y_train),\n",
    "    # StochasticDataLoader(X_train, y_train),\n",
    "    MiniBatchDataLoader(X_train, y_train, 32)\n",
    "]\n",
    "optimizer_creators = [\n",
    "    # lambda nn: SgdOptimizer(nn, 0.001),\n",
    "    # lambda nn: SgdWithMomentumOptimizer(nn, 0.001, 0.9),\n",
    "    lambda nn: AdaGradOptimizer(nn, 0.05),\n",
    "    lambda nn: RmsPropOptimizer(nn, 0.01, 0.95),\n",
    "    lambda nn: AdamOptimizer(nn, 0.01, 0.95, 0.95),\n",
    "]\n",
    "\n",
    "for data_loader in data_loaders:\n",
    "    for optimizer_creator in optimizer_creators:\n",
    "        nn = init_nn()\n",
    "        optimizer = optimizer_creator(nn)\n",
    "        print(f\"gradient descent: {data_loader.__class__} | optimizer: {optimizer.__class__}\")\n",
    "        for i in range(2001):\n",
    "            X_b, y_b = data_loader.get_batch()\n",
    "            out = nn(X_b)\n",
    "            loss = mean_squared_error(y_b, out)\n",
    "            if i % 100 == 0:\n",
    "                elapsed_time = int(time.time() - time_point)\n",
    "                time_point = time.time()\n",
    "                print(f\"{i} | {loss.data:.2f} | {elapsed_time}s\") \n",
    "\n",
    "            optimizer.step(loss)\n",
    "\n",
    "        train_out = nn(X_train) \n",
    "        train_loss = mean_squared_error(y_train, train_out)\n",
    "        test_out = nn(X_test) \n",
    "        test_loss = mean_squared_error(y_test, test_out)\n",
    "        print(f\"train loss: {train_loss.data:.2f}   test loss: {test_loss.data:.2f}\") "
   ]
  },
  {
   "cell_type": "code",
   "execution_count": 8,
   "id": "a35a35ec-a1ca-4b71-886d-28d92db4588b",
   "metadata": {},
   "outputs": [
    {
     "data": {
      "text/plain": [
       "[(23.9, 20.7),\n",
       " (18.7, 39.8),\n",
       " (21.4, 17.8),\n",
       " (18.2, 19.6),\n",
       " (22.6, 14.9),\n",
       " (19.3, 22.0),\n",
       " (21.6, 48.8),\n",
       " (39.5, 25.0),\n",
       " (13.7, 48.5),\n",
       " (20.0, 23.9)]"
      ]
     },
     "execution_count": 8,
     "metadata": {},
     "output_type": "execute_result"
    }
   ],
   "source": [
    "[(round(float(v1),1), float(v2)) for v1, v2 in zip([v[0].data for v in out], [v[0].data for v in y_test])][:10]"
   ]
  },
  {
   "cell_type": "code",
   "execution_count": 9,
   "id": "cd05afd2-5c4f-47a2-ace5-997b212dac04",
   "metadata": {},
   "outputs": [
    {
     "ename": "SyntaxError",
     "evalue": "invalid decimal literal (2114980610.py, line 2)",
     "output_type": "error",
     "traceback": [
      "\u001b[0;36m  Cell \u001b[0;32mIn[9], line 2\u001b[0;36m\u001b[0m\n\u001b[0;31m    0 | 800.47 | 0s\u001b[0m\n\u001b[0m                 ^\u001b[0m\n\u001b[0;31mSyntaxError\u001b[0m\u001b[0;31m:\u001b[0m invalid decimal literal\n"
     ]
    }
   ],
   "source": [
    "gradient descent: <class 'lib.gd_data_loaders.MiniBatchDataLoader'> | optimizer: <class 'lib.optimizers.AdaGradOptimizer'>\n",
    "0 | 800.47 | 0s\n",
    "100 | 146.44 | 14s\n",
    "200 | 89.14 | 3s\n",
    "300 | 73.32 | 14s\n",
    "400 | 31.86 | 15s\n",
    "500 | 19.64 | 3s\n",
    "600 | 21.66 | 14s\n",
    "700 | 46.49 | 15s\n",
    "800 | 12.77 | 14s\n",
    "900 | 19.35 | 3s\n",
    "1000 | 33.66 | 15s\n",
    "1100 | 14.49 | 16s\n",
    "1200 | 58.57 | 3s\n",
    "1300 | 14.34 | 15s\n",
    "1400 | 17.35 | 16s\n",
    "1500 | 25.67 | 3s\n",
    "1600 | 13.69 | 16s\n",
    "1700 | 37.87 | 16s\n",
    "1800 | 28.68 | 3s\n",
    "1900 | 56.13 | 15s\n",
    "2000 | 23.63 | 13s\n",
    "train loss: 20.74   test loss: 21.01\n",
    "gradient descent: <class 'lib.gd_data_loaders.MiniBatchDataLoader'> | optimizer: <class 'lib.optimizers.RmsPropOptimizer'>\n",
    "0 | 501.73 | 0s\n",
    "100 | 131.49 | 13s\n",
    "200 | 30.43 | 3s\n",
    "300 | 41.33 | 13s\n",
    "400 | 31.23 | 13s\n",
    "500 | 9.93 | 2s\n",
    "600 | 12.77 | 13s\n",
    "700 | 10.20 | 14s\n",
    "800 | 15.21 | 3s\n",
    "900 | 10.28 | 16s\n",
    "1000 | 14.14 | 16s\n",
    "1100 | 27.00 | 3s\n",
    "1200 | 25.46 | 16s\n",
    "1300 | 6.39 | 16s\n",
    "1400 | 7.05 | 3s\n",
    "1500 | 11.76 | 15s\n",
    "1600 | 10.33 | 15s\n",
    "1700 | 15.61 | 14s\n",
    "1800 | 8.01 | 3s\n",
    "1900 | 9.71 | 15s\n",
    "2000 | 10.79 | 16s\n",
    "train loss: 11.84   test loss: 8.42\n",
    "gradient descent: <class 'lib.gd_data_loaders.MiniBatchDataLoader'> | optimizer: <class 'lib.optimizers.AdamOptimizer'>\n",
    "0 | 760.70 | 0s\n",
    "100 | 128.24 | 2s\n",
    "200 | 39.71 | 40043s\n",
    "300 | 18.63 | 17s\n",
    "400 | 35.28 | 3s\n",
    "500 | 12.50 | 18s\n",
    "600 | 8.23 | 15s\n",
    "700 | 20.96 | 2s\n",
    "800 | 24.46 | 14s\n",
    "900 | 9.09 | 14s\n",
    "1000 | 25.91 | 2s\n",
    "1100 | 13.78 | 14s\n",
    "1200 | 5.10 | 14s\n",
    "1300 | 6.54 | 2s\n",
    "1400 | 18.26 | 14s\n",
    "1500 | 19.59 | 17s\n",
    "1600 | 11.90 | 2s\n",
    "1700 | 11.78 | 16s\n",
    "1800 | 14.75 | 16s\n",
    "1900 | 10.77 | 3s\n",
    "2000 | 10.37 | 15s\n",
    "train loss: 12.84   test loss: 12.21"
   ]
  }
 ],
 "metadata": {
  "kernelspec": {
   "display_name": "Python 3.10 (venv)",
   "language": "python",
   "name": "py310"
  },
  "language_info": {
   "codemirror_mode": {
    "name": "ipython",
    "version": 3
   },
   "file_extension": ".py",
   "mimetype": "text/x-python",
   "name": "python",
   "nbconvert_exporter": "python",
   "pygments_lexer": "ipython3",
   "version": "3.10.14"
  }
 },
 "nbformat": 4,
 "nbformat_minor": 5
}
