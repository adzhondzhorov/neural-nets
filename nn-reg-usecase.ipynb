{
 "cells": [
  {
   "cell_type": "code",
   "execution_count": 1,
   "id": "d305f180-0341-45a6-8372-29188ea2d7b8",
   "metadata": {},
   "outputs": [],
   "source": [
    "import time\n",
    "import numpy as np\n",
    "\n",
    "np.random.seed(0)\n",
    "\n",
    "from lib.linear_algebra import Matrix\n",
    "from lib.nn import Linear, ReLU, NN\n",
    "from lib.processing import ColumnNormalizer\n",
    "from lib.metrics.losses import mean_squared_error\n",
    "from lib.gd_data_loaders import BatchDataLoader, StochasticDataLoader, MiniBatchDataLoader"
   ]
  },
  {
   "cell_type": "code",
   "execution_count": 2,
   "id": "a2d99b45-d102-4f86-ba2b-3fc6b4732e36",
   "metadata": {},
   "outputs": [],
   "source": [
    "# Boston House Price Dataset\n",
    "# The Boston House Price Dataset involves the prediction of a house price in thousands of dollars given details of the house and its neighborhood.\n",
    "# It is a regression problem. There are 506 observations with 13 input variables and 1 output variable. The variable names are as follows:\n",
    "\n",
    "data = []\n",
    "with open(\"data/boston_house_prices.data\", \"rt\") as f:\n",
    "    for line in f.readlines():\n",
    "        data.append([float(v) for v in line.split()])\n",
    "data = np.array(data)"
   ]
  },
  {
   "cell_type": "code",
   "execution_count": 3,
   "id": "e2b079e8-9f3a-4224-a611-449df789337c",
   "metadata": {},
   "outputs": [
    {
     "data": {
      "text/plain": [
       "((404, 13), (404, 1), (102, 13), (102, 1))"
      ]
     },
     "execution_count": 3,
     "metadata": {},
     "output_type": "execute_result"
    }
   ],
   "source": [
    "np.random.shuffle(data)\n",
    "split = int(len(data) * 0.8)\n",
    "train_set = data[:split]\n",
    "test_set = data[split:]\n",
    "\n",
    "X_train, y_train = train_set[:, :-1], train_set[:, -1:]\n",
    "X_test, y_test = test_set[:, :-1], test_set[:, -1:]\n",
    "X_train = Matrix(X_train)\n",
    "y_train = Matrix(y_train)\n",
    "X_test = Matrix(X_test)\n",
    "y_test = Matrix(y_test)\n",
    "X_train.dims(), y_train.dims(), X_test.dims(), y_test.dims()"
   ]
  },
  {
   "cell_type": "code",
   "execution_count": 4,
   "id": "495365f8-f306-42e6-9ba7-dc7ce463b92c",
   "metadata": {},
   "outputs": [
    {
     "data": {
      "text/plain": [
       "((404, 13), (102, 13))"
      ]
     },
     "execution_count": 4,
     "metadata": {},
     "output_type": "execute_result"
    }
   ],
   "source": [
    "normalizer = ColumnNormalizer()\n",
    "normalizer.fit(X_train)\n",
    "X_train = normalizer.transform(X_train)\n",
    "X_test = normalizer.transform(X_test)\n",
    "X_train.dims(), X_test.dims()"
   ]
  },
  {
   "cell_type": "code",
   "execution_count": 5,
   "id": "d72cc6c4-edcc-40f2-a8fa-172eb5988a4f",
   "metadata": {},
   "outputs": [],
   "source": [
    "nn = NN([\n",
    "    Linear(13, 4),\n",
    "    ReLU(),\n",
    "    Linear(4, 1),\n",
    "])"
   ]
  },
  {
   "cell_type": "code",
   "execution_count": 6,
   "id": "6f66f69f-6592-45be-b963-3ae966069ce9",
   "metadata": {},
   "outputs": [
    {
     "name": "stdout",
     "output_type": "stream",
     "text": [
      "<class 'lib.gd_data_loaders.BatchDataLoader'>\n",
      "0 | 626.32 | 1s\n",
      "100 | 47.83 | 223s\n",
      "200 | 32.07 | 239s\n",
      "300 | 26.48 | 239s\n",
      "400 | 23.86 | 251s\n",
      "500 | 22.20 | 245s\n",
      "600 | 20.86 | 243s\n",
      "700 | 19.75 | 234s\n",
      "800 | 18.88 | 229s\n",
      "900 | 18.17 | 225s\n",
      "1000 | 17.59 | 226s\n",
      "1100 | 17.11 | 231s\n",
      "1200 | 16.69 | 226s\n",
      "1300 | 16.34 | 230s\n",
      "1400 | 16.04 | 224s\n",
      "1500 | 15.77 | 227s\n",
      "1600 | 15.57 | 222s\n",
      "1700 | 15.40 | 228s\n",
      "1800 | 15.25 | 222s\n",
      "1900 | 15.10 | 224s\n",
      "2000 | 14.91 | 230s\n",
      "train loss: 14.90   test loss: 12.10\n",
      "<class 'lib.gd_data_loaders.StochasticDataLoader'>\n",
      "0 | 1.13 | 2s\n",
      "100 | 19.19 | 0s\n",
      "200 | 11.66 | 0s\n",
      "300 | 5.36 | 1s\n",
      "400 | 0.02 | 0s\n",
      "500 | 18.38 | 0s\n",
      "600 | 20.04 | 0s\n",
      "700 | 149.78 | 0s\n",
      "800 | 5.25 | 0s\n",
      "900 | 2.11 | 0s\n",
      "1000 | 16.03 | 0s\n",
      "1100 | 2.37 | 0s\n",
      "1200 | 15.43 | 0s\n",
      "1300 | 23.04 | 0s\n",
      "1400 | 101.43 | 0s\n",
      "1500 | 38.15 | 0s\n",
      "1600 | 4.92 | 0s\n",
      "1700 | 5.55 | 0s\n",
      "1800 | 8.27 | 0s\n",
      "1900 | 0.55 | 0s\n",
      "2000 | 15.37 | 0s\n",
      "train loss: 14.70   test loss: 13.54\n",
      "<class 'lib.gd_data_loaders.MiniBatchDataLoader'>\n",
      "0 | 9.43 | 1s\n",
      "100 | 8.48 | 16s\n",
      "200 | 14.22 | 17s\n",
      "300 | 12.79 | 15s\n",
      "400 | 7.97 | 15s\n",
      "500 | 9.72 | 16s\n",
      "600 | 8.22 | 15s\n",
      "700 | 6.15 | 15s\n",
      "800 | 11.22 | 15s\n",
      "900 | 10.18 | 15s\n",
      "1000 | 15.86 | 15s\n",
      "1100 | 17.86 | 15s\n",
      "1200 | 16.14 | 16s\n",
      "1300 | 17.26 | 16s\n",
      "1400 | 8.04 | 16s\n",
      "1500 | 12.75 | 16s\n",
      "1600 | 9.03 | 16s\n",
      "1700 | 21.07 | 15s\n",
      "1800 | 14.56 | 17s\n",
      "1900 | 12.25 | 16s\n",
      "2000 | 11.55 | 16s\n",
      "train loss: 13.07   test loss: 9.61\n"
     ]
    }
   ],
   "source": [
    "time_point = time.time()\n",
    "for data_loader in [\n",
    "    BatchDataLoader(X_train, y_train),\n",
    "    StochasticDataLoader(X_train, y_train),\n",
    "    MiniBatchDataLoader(X_train, y_train, 32)\n",
    "]:\n",
    "    print(data_loader.__class__)\n",
    "    for i in range(2001):\n",
    "        X_b, y_b = data_loader.get_batch()\n",
    "        out = nn(X_b)\n",
    "        loss = mean_squared_error(y_b, out)\n",
    "        if i % 100 == 0:\n",
    "            elapsed_time = int(time.time() - time_point)\n",
    "            time_point = time.time()\n",
    "            print(f\"{i} | {loss.data:.2f} | {elapsed_time}s\") \n",
    "\n",
    "        for p in nn.params():\n",
    "            for v in p.all_values():\n",
    "                v.zero_grad()\n",
    "        loss.grad = 1\n",
    "        loss.backward()\n",
    "\n",
    "        for p in nn.params():\n",
    "            for v in p.all_values():\n",
    "                v.data -= 0.001 * v.grad\n",
    "\n",
    "    train_out = nn(X_train) \n",
    "    train_loss = mean_squared_error(y_train, train_out)\n",
    "    test_out = nn(X_test) \n",
    "    test_loss = mean_squared_error(y_test, test_out)\n",
    "    print(f\"train loss: {train_loss.data:.2f}   test loss: {test_loss.data:.2f}\") "
   ]
  },
  {
   "cell_type": "code",
   "execution_count": 8,
   "id": "a35a35ec-a1ca-4b71-886d-28d92db4588b",
   "metadata": {},
   "outputs": [
    {
     "data": {
      "text/plain": [
       "[(23.3, 20.7),\n",
       " (41.0, 39.8),\n",
       " (19.4, 17.8),\n",
       " (19.6, 19.6),\n",
       " (11.5, 14.9),\n",
       " (25.0, 22.0),\n",
       " (46.4, 48.8),\n",
       " (23.0, 25.0),\n",
       " (44.4, 48.5),\n",
       " (27.2, 23.9)]"
      ]
     },
     "execution_count": 8,
     "metadata": {},
     "output_type": "execute_result"
    }
   ],
   "source": [
    "[(round(float(v1),1), float(v2)) for v1, v2 in zip([v[0].data for v in out.values], [v[0].data for v in y_test])][:10]"
   ]
  }
 ],
 "metadata": {
  "kernelspec": {
   "display_name": "Python 3.10 (venv)",
   "language": "python",
   "name": "py310"
  },
  "language_info": {
   "codemirror_mode": {
    "name": "ipython",
    "version": 3
   },
   "file_extension": ".py",
   "mimetype": "text/x-python",
   "name": "python",
   "nbconvert_exporter": "python",
   "pygments_lexer": "ipython3",
   "version": "3.10.14"
  }
 },
 "nbformat": 4,
 "nbformat_minor": 5
}
