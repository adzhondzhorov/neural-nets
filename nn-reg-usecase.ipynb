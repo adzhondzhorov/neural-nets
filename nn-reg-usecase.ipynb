{
 "cells": [
  {
   "cell_type": "code",
   "execution_count": 1,
   "id": "d305f180-0341-45a6-8372-29188ea2d7b8",
   "metadata": {},
   "outputs": [],
   "source": [
    "import time\n",
    "import numpy as np\n",
    "\n",
    "np.random.seed(0)\n",
    "\n",
    "from lib.linear_algebra import Matrix\n",
    "from lib.nn import Linear, ReLU, NN\n",
    "from lib.processing import ColumnNormalizer"
   ]
  },
  {
   "cell_type": "code",
   "execution_count": 2,
   "id": "a2d99b45-d102-4f86-ba2b-3fc6b4732e36",
   "metadata": {},
   "outputs": [],
   "source": [
    "# Boston House Price Dataset\n",
    "# The Boston House Price Dataset involves the prediction of a house price in thousands of dollars given details of the house and its neighborhood.\n",
    "# It is a regression problem. There are 506 observations with 13 input variables and 1 output variable. The variable names are as follows:\n",
    "\n",
    "data = []\n",
    "with open(\"data/boston_house_prices.data\", \"rt\") as f:\n",
    "    for line in f.readlines():\n",
    "        data.append([float(v) for v in line.split()])\n",
    "data = np.array(data)"
   ]
  },
  {
   "cell_type": "code",
   "execution_count": 3,
   "id": "e2b079e8-9f3a-4224-a611-449df789337c",
   "metadata": {},
   "outputs": [
    {
     "data": {
      "text/plain": [
       "((404, 13), (404, 1), (102, 13), (102, 1))"
      ]
     },
     "execution_count": 3,
     "metadata": {},
     "output_type": "execute_result"
    }
   ],
   "source": [
    "np.random.shuffle(data)\n",
    "split = int(len(data) * 0.8)\n",
    "train_set = data[:split]\n",
    "test_set = data[split:]\n",
    "\n",
    "X_train, y_train = train_set[:, :-1], train_set[:, -1:]\n",
    "X_test, y_test = test_set[:, :-1], test_set[:, -1:]\n",
    "X_train = Matrix(X_train)\n",
    "y_train = Matrix(y_train)\n",
    "X_test = Matrix(X_test)\n",
    "y_test = Matrix(y_test)\n",
    "X_train.dims(), y_train.dims(), X_test.dims(), y_test.dims()"
   ]
  },
  {
   "cell_type": "code",
   "execution_count": 4,
   "id": "495365f8-f306-42e6-9ba7-dc7ce463b92c",
   "metadata": {},
   "outputs": [
    {
     "data": {
      "text/plain": [
       "((404, 13), (102, 13))"
      ]
     },
     "execution_count": 4,
     "metadata": {},
     "output_type": "execute_result"
    }
   ],
   "source": [
    "normalizer = ColumnNormalizer()\n",
    "normalizer.fit(X_train)\n",
    "X_train = normalizer.transform(X_train)\n",
    "X_test = normalizer.transform(X_test)\n",
    "X_train.dims(), X_test.dims()"
   ]
  },
  {
   "cell_type": "code",
   "execution_count": 5,
   "id": "d72cc6c4-edcc-40f2-a8fa-172eb5988a4f",
   "metadata": {},
   "outputs": [],
   "source": [
    "nn = NN([\n",
    "    Linear(13, 4),\n",
    "    ReLU(),\n",
    "    Linear(4, 1),\n",
    "])"
   ]
  },
  {
   "cell_type": "code",
   "execution_count": 6,
   "id": "6f66f69f-6592-45be-b963-3ae966069ce9",
   "metadata": {},
   "outputs": [
    {
     "name": "stdout",
     "output_type": "stream",
     "text": [
      "0 | 626.32 | 1s\n",
      "100 | 47.83 | 236s\n",
      "200 | 32.07 | 230s\n",
      "300 | 26.48 | 240s\n",
      "400 | 23.86 | 253s\n",
      "500 | 22.20 | 238s\n",
      "600 | 20.86 | 224s\n",
      "700 | 19.75 | 226s\n",
      "800 | 18.88 | 252s\n",
      "900 | 18.17 | 220s\n",
      "1000 | 17.59 | 221s\n",
      "1100 | 17.11 | 221s\n",
      "1200 | 16.69 | 256s\n",
      "1300 | 16.34 | 250s\n",
      "1400 | 16.04 | 248s\n",
      "1500 | 15.77 | 237s\n",
      "1600 | 15.57 | 241s\n",
      "1700 | 15.40 | 231s\n",
      "1800 | 15.25 | 225s\n",
      "1900 | 15.10 | 225s\n",
      "2000 | 14.91 | 248s\n"
     ]
    }
   ],
   "source": [
    "time_point = time.time()\n",
    "\n",
    "for i in range(2001):\n",
    "    out = nn(X_train)\n",
    "    L = sum([i[0] for i in (y_train - out) ** 2]) / y_train.dims()[0]\n",
    "    if i % 100 == 0:\n",
    "        elapsed_time = int(time.time() - time_point)\n",
    "        time_point = time.time()\n",
    "        print(f\"{i} | {L.data:.2f} | {elapsed_time}s\")    \n",
    "\n",
    "    for p in nn.params():\n",
    "        p.zero_grad()\n",
    "    L.grad = 1\n",
    "    L.backward()\n",
    "\n",
    "    for p in nn.params():\n",
    "        for v in p.all_values():\n",
    "            v.data -= 0.001 * v.grad"
   ]
  },
  {
   "cell_type": "code",
   "execution_count": 7,
   "id": "eab993d4-0c60-44b9-904b-b8ccfadb1544",
   "metadata": {},
   "outputs": [
    {
     "data": {
      "text/plain": [
       "{c8c89081, 12.1, 0}"
      ]
     },
     "execution_count": 7,
     "metadata": {},
     "output_type": "execute_result"
    }
   ],
   "source": [
    "out = nn(X_test)\n",
    "L = sum([i[0] for i in (y_test - out) ** 2]) / y_test.dims()[0]\n",
    "L"
   ]
  },
  {
   "cell_type": "code",
   "execution_count": 8,
   "id": "a35a35ec-a1ca-4b71-886d-28d92db4588b",
   "metadata": {},
   "outputs": [
    {
     "data": {
      "text/plain": [
       "[(23.5, 20.7),\n",
       " (41.8, 39.8),\n",
       " (17.5, 17.8),\n",
       " (20.1, 19.6),\n",
       " (11.5, 14.9),\n",
       " (24.1, 22.0),\n",
       " (47.4, 48.8),\n",
       " (23.3, 25.0),\n",
       " (44.1, 48.5),\n",
       " (27.4, 23.9)]"
      ]
     },
     "execution_count": 8,
     "metadata": {},
     "output_type": "execute_result"
    }
   ],
   "source": [
    "[(round(float(v1),1), float(v2)) for v1, v2 in zip([v[0].data for v in out.values], [v[0].data for v in y_test])][:10]"
   ]
  },
  {
   "cell_type": "code",
   "execution_count": null,
   "id": "727a815f-aa83-4369-a33f-a83efe420900",
   "metadata": {},
   "outputs": [],
   "source": []
  }
 ],
 "metadata": {
  "kernelspec": {
   "display_name": "Python 3.10 (venv)",
   "language": "python",
   "name": "py310"
  },
  "language_info": {
   "codemirror_mode": {
    "name": "ipython",
    "version": 3
   },
   "file_extension": ".py",
   "mimetype": "text/x-python",
   "name": "python",
   "nbconvert_exporter": "python",
   "pygments_lexer": "ipython3",
   "version": "3.10.14"
  }
 },
 "nbformat": 4,
 "nbformat_minor": 5
}
