{
 "cells": [
  {
   "cell_type": "code",
   "execution_count": 1,
   "id": "d305f180-0341-45a6-8372-29188ea2d7b8",
   "metadata": {},
   "outputs": [],
   "source": [
    "import time\n",
    "import numpy as np\n",
    "\n",
    "np.random.seed(0)\n",
    "\n",
    "from lib.linear_algebra import Matrix\n",
    "from lib.nn import Linear, ReLU, NN\n",
    "from lib.processing import ColumnNormalizer\n",
    "from lib.metrics.losses import mean_squared_error\n",
    "from lib.gd_data_loaders import BatchDataLoader, StochasticDataLoader, MiniBatchDataLoader\n",
    "from lib.optimizers import SgdOptimizer, SgdWithMomentumOptimizer, AdaGradOptimizer, RmsPropOptimizer, AdamOptimizer"
   ]
  },
  {
   "cell_type": "code",
   "execution_count": 2,
   "id": "a2d99b45-d102-4f86-ba2b-3fc6b4732e36",
   "metadata": {},
   "outputs": [],
   "source": [
    "# Boston House Price Dataset\n",
    "# The Boston House Price Dataset involves the prediction of a house price in thousands of dollars given details of the house and its neighborhood.\n",
    "# It is a regression problem. There are 506 observations with 13 input variables and 1 output variable. The variable names are as follows:\n",
    "\n",
    "data = []\n",
    "with open(\"data/boston_house_prices.data\", \"rt\") as f:\n",
    "    for line in f.readlines():\n",
    "        data.append([float(v) for v in line.split()])\n",
    "data = np.array(data)"
   ]
  },
  {
   "cell_type": "code",
   "execution_count": 3,
   "id": "e2b079e8-9f3a-4224-a611-449df789337c",
   "metadata": {},
   "outputs": [
    {
     "data": {
      "text/plain": [
       "((404, 13), (404, 1), (102, 13), (102, 1))"
      ]
     },
     "execution_count": 3,
     "metadata": {},
     "output_type": "execute_result"
    }
   ],
   "source": [
    "np.random.shuffle(data)\n",
    "split = int(len(data) * 0.8)\n",
    "train_set = data[:split]\n",
    "test_set = data[split:]\n",
    "\n",
    "X_train, y_train = train_set[:, :-1], train_set[:, -1:]\n",
    "X_test, y_test = test_set[:, :-1], test_set[:, -1:]\n",
    "X_train = Matrix(X_train)\n",
    "y_train = Matrix(y_train)\n",
    "X_test = Matrix(X_test)\n",
    "y_test = Matrix(y_test)\n",
    "X_train.dims(), y_train.dims(), X_test.dims(), y_test.dims()"
   ]
  },
  {
   "cell_type": "code",
   "execution_count": 4,
   "id": "495365f8-f306-42e6-9ba7-dc7ce463b92c",
   "metadata": {},
   "outputs": [
    {
     "data": {
      "text/plain": [
       "((404, 13), (102, 13))"
      ]
     },
     "execution_count": 4,
     "metadata": {},
     "output_type": "execute_result"
    }
   ],
   "source": [
    "normalizer = ColumnNormalizer()\n",
    "normalizer.fit(X_train)\n",
    "X_train = normalizer.transform(X_train)\n",
    "X_test = normalizer.transform(X_test)\n",
    "X_train.dims(), X_test.dims()"
   ]
  },
  {
   "cell_type": "code",
   "execution_count": 5,
   "id": "d72cc6c4-edcc-40f2-a8fa-172eb5988a4f",
   "metadata": {},
   "outputs": [],
   "source": [
    "def init_nn():\n",
    "    return NN([\n",
    "        Linear(13, 4),\n",
    "        ReLU(),\n",
    "        Linear(4, 1),\n",
    "    ])"
   ]
  },
  {
   "cell_type": "code",
   "execution_count": 6,
   "id": "6f66f69f-6592-45be-b963-3ae966069ce9",
   "metadata": {},
   "outputs": [
    {
     "name": "stdout",
     "output_type": "stream",
     "text": [
      "gradient descent: <class 'lib.gd_data_loaders.MiniBatchDataLoader'> | optimizer: <class 'lib.optimizers.AdaGradOptimizer'>\n",
      "0 | 675.96 | 0s\n",
      "100 | 179.02 | 12s\n",
      "200 | 59.88 | 11s\n",
      "300 | 34.59 | 12s\n",
      "400 | 30.84 | 12s\n",
      "500 | 26.57 | 13s\n",
      "600 | 15.89 | 13s\n",
      "700 | 47.15 | 13s\n",
      "800 | 39.12 | 12s\n",
      "900 | 33.34 | 11s\n",
      "1000 | 25.93 | 14s\n",
      "1100 | 18.08 | 11s\n",
      "1200 | 18.90 | 10s\n",
      "1300 | 24.24 | 10s\n",
      "1400 | 13.47 | 10s\n",
      "1500 | 14.16 | 10s\n",
      "1600 | 13.63 | 10s\n",
      "1700 | 12.31 | 10s\n",
      "1800 | 14.04 | 10s\n",
      "1900 | 32.22 | 10s\n",
      "2000 | 19.95 | 10s\n",
      "train loss: 20.69   test loss: 20.87\n",
      "gradient descent: <class 'lib.gd_data_loaders.MiniBatchDataLoader'> | optimizer: <class 'lib.optimizers.RmsPropOptimizer'>\n",
      "0 | 635.87 | 1s\n",
      "100 | 119.93 | 13s\n",
      "200 | 23.57 | 13s\n",
      "300 | 13.51 | 13s\n",
      "400 | 29.39 | 14s\n",
      "500 | 8.80 | 14s\n",
      "600 | 16.64 | 13s\n",
      "700 | 11.79 | 14s\n",
      "800 | 8.33 | 13s\n",
      "900 | 20.61 | 13s\n",
      "1000 | 24.01 | 13s\n",
      "1100 | 12.77 | 14s\n",
      "1200 | 18.11 | 13s\n",
      "1300 | 12.45 | 13s\n",
      "1400 | 9.86 | 14s\n",
      "1500 | 13.91 | 13s\n",
      "1600 | 10.44 | 13s\n",
      "1700 | 8.45 | 14s\n",
      "1800 | 17.01 | 13s\n",
      "1900 | 14.43 | 13s\n",
      "2000 | 11.63 | 13s\n",
      "train loss: 11.46   test loss: 8.98\n",
      "gradient descent: <class 'lib.gd_data_loaders.MiniBatchDataLoader'> | optimizer: <class 'lib.optimizers.AdamOptimizer'>\n",
      "0 | 674.24 | 1s\n",
      "100 | 304.27 | 15s\n",
      "200 | 41.35 | 13s\n",
      "300 | 60.85 | 13s\n",
      "400 | 48.70 | 13s\n",
      "500 | 16.46 | 14s\n",
      "600 | 10.44 | 13s\n",
      "700 | 11.43 | 13s\n",
      "800 | 13.13 | 14s\n",
      "900 | 7.91 | 13s\n",
      "1000 | 10.90 | 13s\n",
      "1100 | 17.92 | 13s\n",
      "1200 | 5.45 | 14s\n",
      "1300 | 23.39 | 13s\n",
      "1400 | 7.76 | 14s\n",
      "1500 | 9.12 | 14s\n",
      "1600 | 10.15 | 13s\n",
      "1700 | 6.76 | 13s\n",
      "1800 | 8.91 | 14s\n",
      "1900 | 11.53 | 13s\n",
      "2000 | 13.21 | 14s\n",
      "train loss: 12.70   test loss: 12.20\n"
     ]
    }
   ],
   "source": [
    "time_point = time.time()\n",
    "\n",
    "data_loaders = [\n",
    "    # BatchDataLoader(X_train, y_train),\n",
    "    # StochasticDataLoader(X_train, y_train),\n",
    "    MiniBatchDataLoader(X_train, y_train, 32)\n",
    "]\n",
    "optimizer_creators = [\n",
    "    # lambda nn: SgdOptimizer(nn, 0.001),\n",
    "    # lambda nn: SgdWithMomentumOptimizer(nn, 0.001, 0.9),\n",
    "    lambda nn: AdaGradOptimizer(nn, 0.05),\n",
    "    lambda nn: RmsPropOptimizer(nn, 0.01, 0.95),\n",
    "    lambda nn: AdamOptimizer(nn, 0.01, 0.95, 0.95),\n",
    "]\n",
    "\n",
    "for data_loader in data_loaders:\n",
    "    for optimizer_creator in optimizer_creators:\n",
    "        nn = init_nn()\n",
    "        optimizer = optimizer_creator(nn)\n",
    "        print(f\"gradient descent: {data_loader.__class__} | optimizer: {optimizer.__class__}\")\n",
    "        for i in range(2001):\n",
    "            X_b, y_b = data_loader.get_batch()\n",
    "            out = nn(X_b)\n",
    "            loss = mean_squared_error(y_b, out)\n",
    "            if i % 100 == 0:\n",
    "                elapsed_time = int(time.time() - time_point)\n",
    "                time_point = time.time()\n",
    "                print(f\"{i} | {loss.data:.2f} | {elapsed_time}s\") \n",
    "\n",
    "            optimizer.step(loss)\n",
    "\n",
    "        train_out = nn(X_train) \n",
    "        train_loss = mean_squared_error(y_train, train_out)\n",
    "        test_out = nn(X_test) \n",
    "        test_loss = mean_squared_error(y_test, test_out)\n",
    "        print(f\"train loss: {train_loss.data:.2f}   test loss: {test_loss.data:.2f}\") "
   ]
  },
  {
   "cell_type": "code",
   "execution_count": 7,
   "id": "a35a35ec-a1ca-4b71-886d-28d92db4588b",
   "metadata": {},
   "outputs": [
    {
     "data": {
      "text/plain": [
       "[(15.6, 20.7),\n",
       " (24.9, 39.8),\n",
       " (12.3, 17.8),\n",
       " (41.5, 19.6),\n",
       " (19.3, 14.9),\n",
       " (26.2, 22.0),\n",
       " (13.2, 48.8),\n",
       " (34.4, 25.0),\n",
       " (35.9, 48.5),\n",
       " (7.4, 23.9)]"
      ]
     },
     "execution_count": 7,
     "metadata": {},
     "output_type": "execute_result"
    }
   ],
   "source": [
    "[(round(float(v1),1), float(v2)) for v1, v2 in zip([v[0].data for v in out.values], [v[0].data for v in y_test])][:10]"
   ]
  }
 ],
 "metadata": {
  "kernelspec": {
   "display_name": "Python 3.10 (venv)",
   "language": "python",
   "name": "py310"
  },
  "language_info": {
   "codemirror_mode": {
    "name": "ipython",
    "version": 3
   },
   "file_extension": ".py",
   "mimetype": "text/x-python",
   "name": "python",
   "nbconvert_exporter": "python",
   "pygments_lexer": "ipython3",
   "version": "3.10.14"
  }
 },
 "nbformat": 4,
 "nbformat_minor": 5
}
