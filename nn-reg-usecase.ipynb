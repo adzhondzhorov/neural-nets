{
 "cells": [
  {
   "cell_type": "code",
   "execution_count": 1,
   "id": "03b7cbf3-f5ab-4e76-896e-fcc8f3a3a936",
   "metadata": {},
   "outputs": [],
   "source": [
    "USE_FAST = True"
   ]
  },
  {
   "cell_type": "code",
   "execution_count": 2,
   "id": "d305f180-0341-45a6-8372-29188ea2d7b8",
   "metadata": {},
   "outputs": [],
   "source": [
    "import time\n",
    "import numpy as np\n",
    "\n",
    "np.random.seed(0)\n",
    "\n",
    "if USE_FAST:\n",
    "    from lib.fast.linear_algebra import Matrix\n",
    "    from lib.fast.nn import Linear, ReLU, NN\n",
    "    from lib.fast.processing import ColumnNormalizer\n",
    "else:\n",
    "    from lib.original.linear_algebra import Matrix\n",
    "    from lib.original.nn import Linear, ReLU, NN\n",
    "    from lib.original.processing import ColumnNormalizer\n",
    "from lib.metrics.losses import mean_squared_error\n",
    "from lib.gd_data_loaders import BatchDataLoader, StochasticDataLoader, MiniBatchDataLoader\n",
    "from lib.optimizers import SgdOptimizer, SgdWithMomentumOptimizer, AdaGradOptimizer, RmsPropOptimizer, AdamOptimizer"
   ]
  },
  {
   "cell_type": "code",
   "execution_count": 3,
   "id": "a2d99b45-d102-4f86-ba2b-3fc6b4732e36",
   "metadata": {},
   "outputs": [],
   "source": [
    "# Boston House Price Dataset\n",
    "# The Boston House Price Dataset involves the prediction of a house price in thousands of dollars given details of the house and its neighborhood.\n",
    "# It is a regression problem. There are 506 observations with 13 input variables and 1 output variable. The variable names are as follows:\n",
    "\n",
    "data = []\n",
    "with open(\"data/boston_house_prices.data\", \"rt\") as f:\n",
    "    for line in f.readlines():\n",
    "        data.append([float(v) for v in line.split()])\n",
    "data = np.array(data)"
   ]
  },
  {
   "cell_type": "code",
   "execution_count": 4,
   "id": "e2b079e8-9f3a-4224-a611-449df789337c",
   "metadata": {},
   "outputs": [
    {
     "data": {
      "text/plain": [
       "((404, 13), (404, 1), (102, 13), (102, 1))"
      ]
     },
     "execution_count": 4,
     "metadata": {},
     "output_type": "execute_result"
    }
   ],
   "source": [
    "np.random.shuffle(data)\n",
    "split = int(len(data) * 0.8)\n",
    "train_set = data[:split]\n",
    "test_set = data[split:]\n",
    "\n",
    "X_train, y_train = train_set[:, :-1], train_set[:, -1:]\n",
    "X_test, y_test = test_set[:, :-1], test_set[:, -1:]\n",
    "X_train = Matrix(X_train)\n",
    "y_train = Matrix(y_train)\n",
    "X_test = Matrix(X_test)\n",
    "y_test = Matrix(y_test)\n",
    "X_train.dims(), y_train.dims(), X_test.dims(), y_test.dims()"
   ]
  },
  {
   "cell_type": "code",
   "execution_count": 5,
   "id": "495365f8-f306-42e6-9ba7-dc7ce463b92c",
   "metadata": {},
   "outputs": [
    {
     "data": {
      "text/plain": [
       "((404, 13), (102, 13))"
      ]
     },
     "execution_count": 5,
     "metadata": {},
     "output_type": "execute_result"
    }
   ],
   "source": [
    "normalizer = ColumnNormalizer()\n",
    "normalizer.fit(X_train)\n",
    "X_train = normalizer.transform(X_train)\n",
    "X_test = normalizer.transform(X_test)\n",
    "X_train.dims(), X_test.dims()"
   ]
  },
  {
   "cell_type": "code",
   "execution_count": 6,
   "id": "d72cc6c4-edcc-40f2-a8fa-172eb5988a4f",
   "metadata": {},
   "outputs": [],
   "source": [
    "def init_nn():\n",
    "    return NN([\n",
    "        Linear(13, 4),\n",
    "        ReLU(),\n",
    "        Linear(4, 1),\n",
    "    ])"
   ]
  },
  {
   "cell_type": "code",
   "execution_count": 7,
   "id": "6f66f69f-6592-45be-b963-3ae966069ce9",
   "metadata": {},
   "outputs": [
    {
     "name": "stdout",
     "output_type": "stream",
     "text": [
      "gradient descent: <class 'lib.gd_data_loaders.MiniBatchDataLoader'> | optimizer: <class 'lib.optimizers.AdaGradOptimizer'>\n",
      "0 | 570.99 | 0s\n",
      "100 | 188.97 | 14s\n",
      "200 | 64.86 | 4s\n",
      "300 | 63.16 | 14s\n",
      "400 | 41.55 | 14s\n",
      "500 | 55.41 | 4s\n",
      "600 | 27.28 | 15s\n",
      "700 | 29.82 | 16s\n",
      "800 | 42.44 | 14s\n",
      "900 | 15.94 | 4s\n",
      "1000 | 18.59 | 15s\n",
      "1100 | 28.32 | 18s\n",
      "1200 | 39.23 | 4s\n",
      "1300 | 42.60 | 21s\n",
      "1400 | 28.50 | 18s\n",
      "1500 | 16.40 | 4s\n",
      "1600 | 11.44 | 16s\n",
      "1700 | 14.21 | 16s\n",
      "1800 | 12.42 | 4s\n",
      "1900 | 18.77 | 18s\n",
      "2000 | 45.53 | 18s\n",
      "train loss: 20.85   test loss: 21.01\n",
      "gradient descent: <class 'lib.gd_data_loaders.MiniBatchDataLoader'> | optimizer: <class 'lib.optimizers.RmsPropOptimizer'>\n",
      "0 | 549.58 | 0s\n",
      "100 | 96.48 | 23s\n",
      "200 | 19.86 | 4s\n",
      "300 | 16.44 | 19s\n",
      "400 | 37.44 | 21s\n",
      "500 | 22.77 | 5s\n",
      "600 | 6.73 | 19s\n",
      "700 | 12.32 | 18s\n",
      "800 | 15.24 | 4s\n",
      "900 | 42.81 | 19s\n",
      "1000 | 5.42 | 19s\n",
      "1100 | 7.29 | 5s\n",
      "1200 | 18.53 | 17s\n",
      "1300 | 18.91 | 20s\n",
      "1400 | 14.87 | 5s\n",
      "1500 | 7.27 | 17s\n",
      "1600 | 24.21 | 20s\n",
      "1700 | 8.31 | 21s\n",
      "1800 | 8.33 | 4s\n",
      "1900 | 19.64 | 21s\n",
      "2000 | 11.62 | 21s\n",
      "train loss: 11.79   test loss: 8.32\n",
      "gradient descent: <class 'lib.gd_data_loaders.MiniBatchDataLoader'> | optimizer: <class 'lib.optimizers.AdamOptimizer'>\n",
      "0 | 723.07 | 0s\n",
      "100 | 154.17 | 6s\n",
      "200 | 99.20 | 21s\n",
      "300 | 26.42 | 17s\n",
      "400 | 28.00 | 5s\n",
      "500 | 12.81 | 21s\n",
      "600 | 13.32 | 20s\n",
      "700 | 22.65 | 4s\n",
      "800 | 9.33 | 18s\n",
      "900 | 7.59 | 20s\n",
      "1000 | 15.34 | 5s\n",
      "1100 | 11.06 | 22s\n",
      "1200 | 17.06 | 17s\n",
      "1300 | 17.28 | 4s\n",
      "1400 | 27.36 | 17s\n",
      "1500 | 25.41 | 18s\n",
      "1600 | 13.21 | 17s\n",
      "1700 | 13.42 | 4s\n",
      "1800 | 10.73 | 18s\n",
      "1900 | 9.16 | 20s\n",
      "2000 | 4.93 | 4s\n",
      "train loss: 12.48   test loss: 10.57\n"
     ]
    }
   ],
   "source": [
    "time_point = time.time()\n",
    "\n",
    "data_loaders = [\n",
    "    # BatchDataLoader(X_train, y_train),\n",
    "    # StochasticDataLoader(X_train, y_train),\n",
    "    MiniBatchDataLoader(X_train, y_train, 32)\n",
    "]\n",
    "optimizer_creators = [\n",
    "    # lambda nn: SgdOptimizer(nn, 0.001),\n",
    "    # lambda nn: SgdWithMomentumOptimizer(nn, 0.001, 0.9),\n",
    "    lambda nn: AdaGradOptimizer(nn, 0.05),\n",
    "    lambda nn: RmsPropOptimizer(nn, 0.01, 0.95),\n",
    "    lambda nn: AdamOptimizer(nn, 0.01, 0.95, 0.95),\n",
    "]\n",
    "\n",
    "for data_loader in data_loaders:\n",
    "    for optimizer_creator in optimizer_creators:\n",
    "        nn = init_nn()\n",
    "        optimizer = optimizer_creator(nn)\n",
    "        print(f\"gradient descent: {data_loader.__class__} | optimizer: {optimizer.__class__}\")\n",
    "        for i in range(2001):\n",
    "            X_b, y_b = data_loader.get_batch()\n",
    "            out = nn(X_b)\n",
    "            loss = mean_squared_error(y_b, out)\n",
    "            if i % 100 == 0:\n",
    "                elapsed_time = int(time.time() - time_point)\n",
    "                time_point = time.time()\n",
    "                print(f\"{i} | {loss.data:.2f} | {elapsed_time}s\") \n",
    "\n",
    "            optimizer.step(loss)\n",
    "\n",
    "        train_out = nn(X_train) \n",
    "        train_loss = mean_squared_error(y_train, train_out)\n",
    "        test_out = nn(X_test) \n",
    "        test_loss = mean_squared_error(y_test, test_out)\n",
    "        print(f\"train loss: {train_loss.data:.2f}   test loss: {test_loss.data:.2f}\") "
   ]
  },
  {
   "cell_type": "code",
   "execution_count": 8,
   "id": "a35a35ec-a1ca-4b71-886d-28d92db4588b",
   "metadata": {},
   "outputs": [
    {
     "data": {
      "text/plain": [
       "[(42.4, 20.7),\n",
       " (17.4, 39.8),\n",
       " (33.7, 17.8),\n",
       " (6.7, 19.6),\n",
       " (16.3, 14.9),\n",
       " (26.4, 22.0),\n",
       " (14.6, 48.8),\n",
       " (21.6, 25.0),\n",
       " (19.4, 48.5),\n",
       " (17.2, 23.9)]"
      ]
     },
     "execution_count": 8,
     "metadata": {},
     "output_type": "execute_result"
    }
   ],
   "source": [
    "[(round(float(v1),1), float(v2)) for v1, v2 in zip([v[0].data for v in out], [v[0].data for v in y_test])][:10]"
   ]
  }
 ],
 "metadata": {
  "kernelspec": {
   "display_name": "Python 3.10 (venv)",
   "language": "python",
   "name": "py310"
  },
  "language_info": {
   "codemirror_mode": {
    "name": "ipython",
    "version": 3
   },
   "file_extension": ".py",
   "mimetype": "text/x-python",
   "name": "python",
   "nbconvert_exporter": "python",
   "pygments_lexer": "ipython3",
   "version": "3.10.14"
  }
 },
 "nbformat": 4,
 "nbformat_minor": 5
}
