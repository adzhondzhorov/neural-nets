{
 "cells": [
  {
   "cell_type": "markdown",
   "id": "ea414498-b8b4-4405-bff9-34dbefae6688",
   "metadata": {},
   "source": [
    "# Scalar, Vector and Matrix operations"
   ]
  },
  {
   "cell_type": "code",
   "execution_count": null,
   "id": "23de9b13-707c-4b40-a34a-f320f2648d1e",
   "metadata": {},
   "outputs": [],
   "source": [
    "from basics.linear_algebra import Scalar, Vector, Matrix, Tensor"
   ]
  },
  {
   "cell_type": "markdown",
   "id": "1cc52c03-d6ae-461f-ac00-616fa3fd2858",
   "metadata": {},
   "source": [
    "### Scalars"
   ]
  },
  {
   "cell_type": "code",
   "execution_count": null,
   "id": "cb33c5f6-92e4-4807-9927-0590b885cd68",
   "metadata": {},
   "outputs": [],
   "source": [
    "Scalar(3) * Scalar(8) + Scalar(2)"
   ]
  },
  {
   "cell_type": "markdown",
   "id": "c33675c1-0d37-4357-ad62-681a1568efa3",
   "metadata": {},
   "source": [
    "### Vectors"
   ]
  },
  {
   "cell_type": "code",
   "execution_count": null,
   "id": "3263e0ce-2048-4d6f-890e-0a1195e2c793",
   "metadata": {},
   "outputs": [],
   "source": [
    "v1 = Vector([1, 2, 3])\n",
    "v2 = Vector([4, 5, 6])\n",
    "v1 + v2"
   ]
  },
  {
   "cell_type": "code",
   "execution_count": null,
   "id": "30973ab6-157f-4530-81d9-9fd74443b677",
   "metadata": {},
   "outputs": [],
   "source": [
    "v1.dotprod(v2)"
   ]
  },
  {
   "cell_type": "markdown",
   "id": "5693398a-232a-47bf-b429-5b1b5be6ba73",
   "metadata": {},
   "source": [
    "### Matrices"
   ]
  },
  {
   "cell_type": "code",
   "execution_count": null,
   "id": "97135728-155c-413e-aaa4-9d4732f79678",
   "metadata": {},
   "outputs": [],
   "source": [
    "m1 = Matrix([[1, 2, 3]])\n",
    "m2 = Matrix([[4, 5, 6]])\n",
    "m1 * m2"
   ]
  },
  {
   "cell_type": "code",
   "execution_count": null,
   "id": "e8cfc508-4dee-47e8-b497-9c446cae3e42",
   "metadata": {},
   "outputs": [],
   "source": [
    "m1.matmul(m2.t())"
   ]
  },
  {
   "cell_type": "code",
   "execution_count": null,
   "id": "4fa3e692-e395-4063-b565-799221a025bc",
   "metadata": {},
   "outputs": [],
   "source": [
    "m3 = Matrix([\n",
    "    [1, 4, 1],\n",
    "    [2, 3, 0]\n",
    "])\n",
    "\n",
    "m4 = Matrix([\n",
    "    [1, 2, 4, 4],\n",
    "    [3, 4, 6, 1],\n",
    "    [5, 6, 2, 1]\n",
    "])\n",
    "\n",
    "m3.matmul(m4)"
   ]
  },
  {
   "cell_type": "markdown",
   "id": "b762e998-b995-4545-9ca1-510b4e6789d6",
   "metadata": {},
   "source": [
    "### Tensors"
   ]
  },
  {
   "cell_type": "code",
   "execution_count": null,
   "id": "8ebbe358-723b-4a48-bf1f-482ccf4f4584",
   "metadata": {},
   "outputs": [],
   "source": [
    "t1 = Tensor([              \n",
    "    [\n",
    "        [1, 2, 3, 4],\n",
    "        [2, 4, 6, 8]\n",
    "    ],             \n",
    "    [\n",
    "        [5, 5, 4, 4],\n",
    "        [1, 0, 0, 1]\n",
    "    ],           \n",
    "    [\n",
    "        [0, 1, 3, 1],\n",
    "        [3, 0, 3, 1]\n",
    "    ],\n",
    "])\n",
    "\n",
    "\n",
    "t2 = Tensor([              \n",
    "    [\n",
    "        [2, 2, 0],\n",
    "        [3, 3, 0],\n",
    "        [1, 1, 0],\n",
    "        [1, 1, 1],\n",
    "    ],             \n",
    "    [\n",
    "        [0, 2, 1],\n",
    "        [1, 2, 1],\n",
    "        [0, 3, 8],\n",
    "        [5, 1, 0],\n",
    "    ],             \n",
    "    [\n",
    "        [2, 1, 5],\n",
    "        [1, 1, 1],\n",
    "        [0, 8, 0],\n",
    "        [1, 0, 2],\n",
    "    ]\n",
    "])\n",
    "(t1 * t1).dims()"
   ]
  },
  {
   "cell_type": "code",
   "execution_count": null,
   "id": "1f2e67ce-e08e-43be-bfc5-45838b6499f5",
   "metadata": {},
   "outputs": [],
   "source": [
    "t1.matmul(t2)"
   ]
  },
  {
   "cell_type": "code",
   "execution_count": null,
   "id": "6e33aab5-271f-47c7-83c3-bfe4628eb50f",
   "metadata": {},
   "outputs": [],
   "source": []
  }
 ],
 "metadata": {
  "kernelspec": {
   "display_name": "Python 3 (ipykernel)",
   "language": "python",
   "name": "python3"
  },
  "language_info": {
   "codemirror_mode": {
    "name": "ipython",
    "version": 3
   },
   "file_extension": ".py",
   "mimetype": "text/x-python",
   "name": "python",
   "nbconvert_exporter": "python",
   "pygments_lexer": "ipython3",
   "version": "3.9.6"
  }
 },
 "nbformat": 4,
 "nbformat_minor": 5
}
