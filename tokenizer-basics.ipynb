{
 "cells": [
  {
   "cell_type": "code",
   "execution_count": 1,
   "id": "877467d5-4ca6-4e05-82d9-ad845e6cb99b",
   "metadata": {},
   "outputs": [],
   "source": [
    "from lib.tokenization import BPETokenizer"
   ]
  },
  {
   "cell_type": "code",
   "execution_count": 2,
   "id": "0028fd20-0e9c-454f-9f4c-804f45c607e5",
   "metadata": {},
   "outputs": [
    {
     "name": "stdout",
     "output_type": "stream",
     "text": [
      "0; last token '”'; |text|=2490 tokens; |vocab|=47 tokens; 0s\n",
      "1; last token 'e '; |text|=2402 tokens; |vocab|=48 tokens; 0s\n",
      "2; last token ' t'; |text|=2323 tokens; |vocab|=49 tokens; 0s\n",
      "3; last token ' th'; |text|=2259 tokens; |vocab|=50 tokens; 0s\n",
      "4; last token 'in'; |text|=2204 tokens; |vocab|=51 tokens; 0s\n",
      "5; last token 'st'; |text|=2152 tokens; |vocab|=52 tokens; 0s\n",
      "6; last token ' the '; |text|=2102 tokens; |vocab|=53 tokens; 0s\n",
      "7; last token 're'; |text|=2060 tokens; |vocab|=54 tokens; 0s\n",
      "8; last token ' a'; |text|=2020 tokens; |vocab|=55 tokens; 0s\n",
      "9; last token 'ing'; |text|=1980 tokens; |vocab|=56 tokens; 0s\n",
      "10; last token 'd '; |text|=1949 tokens; |vocab|=57 tokens; 0s\n",
      "11; last token 'er'; |text|=1923 tokens; |vocab|=58 tokens; 0s\n",
      "12; last token 's '; |text|=1897 tokens; |vocab|=59 tokens; 0s\n",
      "13; last token 'en'; |text|=1875 tokens; |vocab|=60 tokens; 0s\n",
      "14; last token 'king'; |text|=1853 tokens; |vocab|=61 tokens; 0s\n",
      "15; last token 'on'; |text|=1832 tokens; |vocab|=62 tokens; 0s\n",
      "16; last token 'at'; |text|=1812 tokens; |vocab|=63 tokens; 0s\n",
      "17; last token 'le'; |text|=1794 tokens; |vocab|=64 tokens; 0s\n",
      "18; last token ' an'; |text|=1776 tokens; |vocab|=65 tokens; 0s\n",
      "19; last token 'fo'; |text|=1758 tokens; |vocab|=66 tokens; 0s\n",
      "20; last token '. '; |text|=1740 tokens; |vocab|=67 tokens; 0s\n",
      "21; last token ', '; |text|=1722 tokens; |vocab|=68 tokens; 0s\n",
      "22; last token 'fore'; |text|=1706 tokens; |vocab|=69 tokens; 0s\n",
      "23; last token 'ou'; |text|=1689 tokens; |vocab|=70 tokens; 0s\n",
      "24; last token 'ca'; |text|=1674 tokens; |vocab|=71 tokens; 0s\n",
      "25; last token 'forest'; |text|=1659 tokens; |vocab|=72 tokens; 0s\n",
      "26; last token 'cast'; |text|=1645 tokens; |vocab|=73 tokens; 0s\n",
      "27; last token 'of'; |text|=1631 tokens; |vocab|=74 tokens; 0s\n",
      "28; last token 't '; |text|=1617 tokens; |vocab|=75 tokens; 0s\n",
      "29; last token 'an'; |text|=1603 tokens; |vocab|=76 tokens; 0s\n",
      "30; last token 'hi'; |text|=1590 tokens; |vocab|=77 tokens; 0s\n",
      "31; last token 'om'; |text|=1577 tokens; |vocab|=78 tokens; 0s\n",
      "32; last token 'll'; |text|=1564 tokens; |vocab|=79 tokens; 0s\n",
      "33; last token ' the forest'; |text|=1551 tokens; |vocab|=80 tokens; 0s\n",
      "34; last token ' w'; |text|=1539 tokens; |vocab|=81 tokens; 0s\n",
      "35; last token 'ar'; |text|=1527 tokens; |vocab|=82 tokens; 0s\n",
      "36; last token ' a '; |text|=1517 tokens; |vocab|=83 tokens; 0s\n",
      "37; last token 'le '; |text|=1507 tokens; |vocab|=84 tokens; 0s\n",
      "38; last token ' the king'; |text|=1497 tokens; |vocab|=85 tokens; 0s\n",
      "39; last token 'or'; |text|=1487 tokens; |vocab|=86 tokens; 0s\n",
      "40; last token 'o '; |text|=1477 tokens; |vocab|=87 tokens; 0s\n",
      "41; last token 'd the '; |text|=1467 tokens; |vocab|=88 tokens; 0s\n",
      "42; last token 'sp'; |text|=1458 tokens; |vocab|=89 tokens; 0s\n",
      "43; last token 'ing '; |text|=1449 tokens; |vocab|=90 tokens; 0s\n",
      "44; last token 'ow'; |text|=1440 tokens; |vocab|=91 tokens; 0s\n",
      "45; last token 'ed '; |text|=1432 tokens; |vocab|=92 tokens; 0s\n",
      "46; last token 'dom'; |text|=1424 tokens; |vocab|=93 tokens; 0s\n",
      "47; last token 'y '; |text|=1416 tokens; |vocab|=94 tokens; 0s\n",
      "48; last token 'castle '; |text|=1408 tokens; |vocab|=95 tokens; 0s\n",
      "49; last token 'it'; |text|=1400 tokens; |vocab|=96 tokens; 0s\n",
      "50; last token 'all'; |text|=1392 tokens; |vocab|=97 tokens; 0s\n",
      "51; last token ' the forest '; |text|=1384 tokens; |vocab|=98 tokens; 0s\n",
      "52; last token 'sh'; |text|=1376 tokens; |vocab|=99 tokens; 0s\n",
      "53; last token 'ch'; |text|=1368 tokens; |vocab|=100 tokens; 0s\n"
     ]
    }
   ],
   "source": [
    "data = [\n",
    "    \"Once upon a time in a hidden kingdom, a mighty king ruled from a sprawling castle at the edge of an ancient forest. The castle stood atop a steep hill, its towering walls overlooking the winding paths of the forest. Every dawn, the king would gaze out from the highest turret, observing the forest shrouded in early morning mist. In that forest, countless stories were whispered among twisted oaks and winding streams, each story echoing the legends of a king, a castle, and a kingdom that seemed older than time itself. According to rumor, the heart of the forest concealed a hidden grove where magic lingered, and where the spirit of every past king still roamed. Travelers and knights alike ventured through the forest, hoping to discover its secrets or stumble upon lost artifacts once blessed by royal decree. But the forest held dangers, too: shadows that whispered doom, creatures that guarded ancient runes, and illusions that led the unwary astray. Despite the perils, the king believed the forest protected the castle from unseen threats, forging an unbreakable bond between the king, the castle, and the mysterious woodland realm.\",\n",
    "    \"Each evening, the lanterns along the castle walls flickered, casting dancing shapes across the courtyard. The king convened with his council of wise men, discussing the forest’s secrets and the fate of the kingdom. He repeated the same vow daily: “So long as I reign, the castle and the forest shall prosper, and our kingdom shall endure.” The council often debated the best way to maintain peace in the land, especially when wandering bards spoke of threats beyond the forest—other kings, foreign castles, and growing shadows in distant realms. Yet each advisor understood that the very power binding the kingdom originated from the alliance between the king, his castle, and the arcane hush of the forest. At midnight, the king would step onto the moonlit balcony to reflect upon the day’s challenges. Below, in the courtyard, guards patrolled the castle gates with quiet resolve. Beyond those gates, the forest stretched endlessly, full of both wonder and treachery. Again and again, the king thought of the vow he had made. If the forest ever fell to darkness, then the castle and the entire kingdom would be lost to memory. But so long as faith endured in the hearts of his people—and so long as the king upheld his pledge—this hidden kingdom would stand strong, steeped in a legacy that bound king, castle, and forest together for all time.\"\n",
    "]\n",
    "tokenizer = BPETokenizer(100)\n",
    "tokenizer.fit(data)"
   ]
  },
  {
   "cell_type": "code",
   "execution_count": 3,
   "id": "28ca45b1-575e-4db7-be7e-d28bbf655cdd",
   "metadata": {},
   "outputs": [
    {
     "data": {
      "text/plain": [
       "[13, 38, 35, 1, 60, 92, 1, 27, 58, 36, 19, 24, 47, 26, 23, 19, 39, 59, 3]"
      ]
     },
     "execution_count": 3,
     "metadata": {},
     "output_type": "execute_result"
    }
   ],
   "source": [
    "text = \"Our kingdom is safe heaven.\"\n",
    "encoded_text = tokenizer.encode(text)\n",
    "encoded_text"
   ]
  },
  {
   "cell_type": "code",
   "execution_count": 4,
   "id": "36934453-ae54-409b-968f-87513c4435b3",
   "metadata": {},
   "outputs": [
    {
     "data": {
      "text/plain": [
       "(27, 19)"
      ]
     },
     "execution_count": 4,
     "metadata": {},
     "output_type": "execute_result"
    }
   ],
   "source": [
    "len(text), len(encoded_text)"
   ]
  },
  {
   "cell_type": "code",
   "execution_count": 5,
   "id": "648e542b-370d-49c6-a08d-9bf242d60fe1",
   "metadata": {},
   "outputs": [
    {
     "data": {
      "text/plain": [
       "'Our kingdom is safe heaven.'"
      ]
     },
     "execution_count": 5,
     "metadata": {},
     "output_type": "execute_result"
    }
   ],
   "source": [
    "tokenizer.decode(encoded_text)"
   ]
  },
  {
   "cell_type": "code",
   "execution_count": null,
   "id": "a718f90f-2476-4327-af09-d2050198fe6e",
   "metadata": {},
   "outputs": [],
   "source": []
  }
 ],
 "metadata": {
  "kernelspec": {
   "display_name": "Python 3.10 (venv)",
   "language": "python",
   "name": "py310"
  },
  "language_info": {
   "codemirror_mode": {
    "name": "ipython",
    "version": 3
   },
   "file_extension": ".py",
   "mimetype": "text/x-python",
   "name": "python",
   "nbconvert_exporter": "python",
   "pygments_lexer": "ipython3",
   "version": "3.10.14"
  }
 },
 "nbformat": 4,
 "nbformat_minor": 5
}
