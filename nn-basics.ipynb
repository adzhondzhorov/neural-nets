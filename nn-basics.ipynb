{
 "cells": [
  {
   "cell_type": "markdown",
   "id": "692303e6-2277-4ecc-af8b-aab20bb8ec35",
   "metadata": {},
   "source": [
    "# Derivatives, basic NN"
   ]
  },
  {
   "cell_type": "code",
   "execution_count": 1,
   "id": "d305f180-0341-45a6-8372-29188ea2d7b8",
   "metadata": {},
   "outputs": [],
   "source": [
    "import numpy as np\n",
    "\n",
    "from lib.value import Value\n",
    "from lib.linear_algebra import Vector, Matrix\n",
    "from lib.nn import Linear, Sigmoid, NN\n",
    "from lib.metrics.losses import mean_squared_error\n",
    "from lib.gd_data_loaders import BatchDataLoader, StochasticDataLoader, MiniBatchDataLoader\n",
    "np.random.seed(1)"
   ]
  },
  {
   "cell_type": "markdown",
   "id": "c1f0c91b-3af4-4846-a8ef-caeca53a2064",
   "metadata": {},
   "source": [
    "### Derivatives"
   ]
  },
  {
   "cell_type": "code",
   "execution_count": 2,
   "id": "f40e345c-ddf8-44e5-86ee-d87175d50640",
   "metadata": {},
   "outputs": [],
   "source": [
    "X = 5\n",
    "W = 2\n",
    "b = 0\n",
    "y = 12"
   ]
  },
  {
   "cell_type": "code",
   "execution_count": 3,
   "id": "362f4a87-61e2-4150-804b-485ef4bdcb29",
   "metadata": {},
   "outputs": [
    {
     "data": {
      "text/plain": [
       "(4, (10, -4), (2, -20), (0, -4))"
      ]
     },
     "execution_count": 3,
     "metadata": {},
     "output_type": "execute_result"
    }
   ],
   "source": [
    "Z = X*W + b\n",
    "L = (Z - y)**2\n",
    "\n",
    "dZ_dL = 2*Z - 2*y \n",
    "dW_dZ = X\n",
    "dW_dL = dZ_dL * dW_dZ\n",
    "db_dZ = 1\n",
    "db_dL = dZ_dL * db_dZ\n",
    "L, (Z,dZ_dL), (W, dW_dL), (b, db_dL)"
   ]
  },
  {
   "cell_type": "code",
   "execution_count": 4,
   "id": "5cfa34d5-cdca-4b34-9de0-35de69aa4d45",
   "metadata": {},
   "outputs": [
    {
     "data": {
      "text/plain": [
       "({5d2f70d4, 4, 1}, {b927f800, 10, -4}, {2e7f1810, 2, -20}, {f5588b85, 0, -4})"
      ]
     },
     "execution_count": 4,
     "metadata": {},
     "output_type": "execute_result"
    }
   ],
   "source": [
    "X = Value(5)\n",
    "W = Value(2)\n",
    "b = Value(0)\n",
    "\n",
    "Z = X * W + b\n",
    "\n",
    "y = Value(12)\n",
    "\n",
    "L = (Z - y) ** 2\n",
    "L.grad = 1\n",
    "L.backward()\n",
    "L, Z, W, b"
   ]
  },
  {
   "cell_type": "markdown",
   "id": "b0c70c23-4a87-43fc-9c98-bf7759b6c00a",
   "metadata": {},
   "source": [
    "### Linear operations"
   ]
  },
  {
   "cell_type": "code",
   "execution_count": 5,
   "id": "18430304-a30c-4f20-aa9d-4ac9a0209b33",
   "metadata": {},
   "outputs": [
    {
     "name": "stdout",
     "output_type": "stream",
     "text": [
      "Matrix([\n",
      "[{db289696, 20, 0}, {920f3112, 23, 0}, {162b6eff, 34, 0}, {2f6676da, 14, 0}],\n",
      "[{0504310f, 13, 0}, {ddd06c4c, 11, 0}, {a58751fd, 30, 0}, {5a81b726, 16, 0}]\n",
      "])\n"
     ]
    }
   ],
   "source": [
    "m1 = Matrix([\n",
    "    [1, 4, 1],\n",
    "    [2, 3, 0]\n",
    "])\n",
    "\n",
    "m2 = Matrix([\n",
    "    [1, -2, 4, 4],\n",
    "    [3, 4, 6, 1],\n",
    "    [5, 6, 2, 1]\n",
    "])\n",
    "\n",
    "v1 = Vector([2, 3, 4, 5]) \n",
    "\n",
    "print(m1.matmul(m2) + v1)"
   ]
  },
  {
   "cell_type": "markdown",
   "id": "028b58d5-d980-406e-b5fe-e230706896cf",
   "metadata": {},
   "source": [
    "# NN"
   ]
  },
  {
   "cell_type": "code",
   "execution_count": 6,
   "id": "1e294c6e-738a-49cf-8a67-797a31da419f",
   "metadata": {},
   "outputs": [],
   "source": [
    "X = Matrix(np.random.uniform(size=(10, 5)))\n",
    "y = Matrix([[1] for _ in range(10)])\n",
    "\n",
    "nn = NN([\n",
    "    Linear(5, 3),\n",
    "    Sigmoid(),\n",
    "    Linear(3, 1),\n",
    "])"
   ]
  },
  {
   "cell_type": "code",
   "execution_count": 7,
   "id": "b3350533-5c41-4032-9e0b-3a642ec29cbb",
   "metadata": {},
   "outputs": [
    {
     "name": "stdout",
     "output_type": "stream",
     "text": [
      "<class 'lib.gd_data_loaders.BatchDataLoader'>\n",
      "0 0.29\n",
      "1 0.17\n",
      "2 0.12\n",
      "3 0.11\n",
      "4 0.10\n",
      "5 0.10\n",
      "6 0.10\n",
      "7 0.09\n",
      "8 0.09\n",
      "9 0.09\n",
      "10 0.09\n",
      "11 0.09\n",
      "12 0.08\n",
      "13 0.08\n",
      "14 0.08\n",
      "15 0.08\n",
      "16 0.08\n",
      "17 0.08\n",
      "18 0.07\n",
      "19 0.07\n",
      "20 0.07\n",
      "21 0.07\n",
      "22 0.07\n",
      "23 0.07\n",
      "24 0.07\n",
      "25 0.06\n",
      "26 0.06\n",
      "27 0.06\n",
      "28 0.06\n",
      "29 0.06\n",
      "loss: 0.06\n",
      "<class 'lib.gd_data_loaders.StochasticDataLoader'>\n",
      "0 0.03\n",
      "1 0.03\n",
      "2 0.02\n",
      "3 0.02\n",
      "4 0.02\n",
      "5 0.06\n",
      "6 0.36\n",
      "7 0.06\n",
      "8 0.18\n",
      "9 0.00\n",
      "10 0.03\n",
      "11 0.02\n",
      "12 0.02\n",
      "13 0.01\n",
      "14 0.02\n",
      "15 0.06\n",
      "16 0.30\n",
      "17 0.05\n",
      "18 0.14\n",
      "19 0.00\n",
      "20 0.03\n",
      "21 0.01\n",
      "22 0.01\n",
      "23 0.01\n",
      "24 0.01\n",
      "25 0.06\n",
      "26 0.25\n",
      "27 0.04\n",
      "28 0.11\n",
      "29 0.00\n",
      "loss: 0.03\n",
      "<class 'lib.gd_data_loaders.MiniBatchDataLoader'>\n",
      "0 0.05\n",
      "1 0.01\n",
      "2 0.10\n",
      "3 0.04\n",
      "4 0.02\n",
      "5 0.06\n",
      "6 0.06\n",
      "7 0.01\n",
      "8 0.05\n",
      "9 0.01\n",
      "10 0.01\n",
      "11 0.00\n",
      "12 0.01\n",
      "13 0.07\n",
      "14 0.06\n",
      "15 0.04\n",
      "16 0.01\n",
      "17 0.03\n",
      "18 0.02\n",
      "19 0.03\n",
      "20 0.00\n",
      "21 0.01\n",
      "22 0.01\n",
      "23 0.08\n",
      "24 0.03\n",
      "25 0.04\n",
      "26 0.01\n",
      "27 0.00\n",
      "28 0.03\n",
      "29 0.04\n",
      "loss: 0.02\n"
     ]
    }
   ],
   "source": [
    "for data_loader in [\n",
    "    BatchDataLoader(X, y),\n",
    "    StochasticDataLoader(X, y),\n",
    "    MiniBatchDataLoader(X, y, 2)\n",
    "]:\n",
    "    print(data_loader.__class__)\n",
    "    for i in range(30):\n",
    "        X_b, y_b = data_loader.get_batch()\n",
    "        out = nn(X_b)\n",
    "        loss = mean_squared_error(y_b, out)\n",
    "        print(f\"{i} {loss.data:.2f}\")\n",
    "        \n",
    "        for p in nn.params():\n",
    "            for v in p.all_values():\n",
    "                v.zero_grad()\n",
    "        loss.grad = 1\n",
    "        loss.backward()\n",
    "    \n",
    "        for p in nn.params():\n",
    "            for v in p.all_values():\n",
    "                v.data -= 0.1 * v.grad\n",
    "\n",
    "    out = nn(X) \n",
    "    loss = mean_squared_error(y, out)\n",
    "    print(f\"loss: {loss.data:.2f}\") "
   ]
  },
  {
   "cell_type": "code",
   "execution_count": 8,
   "id": "40c04ba0-c222-441e-b7d5-db51159bc45c",
   "metadata": {},
   "outputs": [
    {
     "data": {
      "text/plain": [
       "(Matrix([\n",
       " [{0d02806b, 0.85, 0}],\n",
       " [{c484c8f5, 0.99, 0}],\n",
       " [{5892bda6, 0.91, 0}],\n",
       " [{af9a2b36, 0.98, 0}],\n",
       " [{0877aa81, 0.9, 0}],\n",
       " [{66d21a84, 0.73, 0}],\n",
       " [{8aa1d8da, 1.23, 0}],\n",
       " [{37518e9f, 1.16, 0}],\n",
       " [{0e969480, 0.85, 0}],\n",
       " [{8dc1bbc4, 0.97, 0}]\n",
       " ]),\n",
       " Matrix([\n",
       " [{1ec51a15, 1, 2.93}],\n",
       " [{b12f9b2f, 1, -2.22}],\n",
       " [{f5839b3b, 1, 2.09}],\n",
       " [{cd80a52f, 1, -1.7}],\n",
       " [{03286ad1, 1, 2.28}],\n",
       " [{c03da865, 1, 4.84}],\n",
       " [{b94a72d7, 1, -8.49}],\n",
       " [{bd7659a8, 1, -5.47}],\n",
       " [{b1d3c5a7, 1, 4.83}],\n",
       " [{99dc7b40, 1, 0.13}]\n",
       " ]))"
      ]
     },
     "execution_count": 8,
     "metadata": {},
     "output_type": "execute_result"
    }
   ],
   "source": [
    "nn(X), y"
   ]
  },
  {
   "cell_type": "code",
   "execution_count": null,
   "id": "4ab2d839-573f-465b-a450-d70aaf460a5b",
   "metadata": {},
   "outputs": [],
   "source": []
  }
 ],
 "metadata": {
  "kernelspec": {
   "display_name": "Python 3.10 (venv)",
   "language": "python",
   "name": "py310"
  },
  "language_info": {
   "codemirror_mode": {
    "name": "ipython",
    "version": 3
   },
   "file_extension": ".py",
   "mimetype": "text/x-python",
   "name": "python",
   "nbconvert_exporter": "python",
   "pygments_lexer": "ipython3",
   "version": "3.10.14"
  }
 },
 "nbformat": 4,
 "nbformat_minor": 5
}
