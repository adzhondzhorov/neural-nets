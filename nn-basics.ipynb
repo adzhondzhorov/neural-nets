{
 "cells": [
  {
   "cell_type": "markdown",
   "id": "692303e6-2277-4ecc-af8b-aab20bb8ec35",
   "metadata": {},
   "source": [
    "# Derivatives, basic NN"
   ]
  },
  {
   "cell_type": "code",
   "execution_count": 1,
   "id": "d305f180-0341-45a6-8372-29188ea2d7b8",
   "metadata": {},
   "outputs": [],
   "source": [
    "import numpy as np\n",
    "\n",
    "from lib.value import Value\n",
    "from lib.linear_algebra import Vector, Matrix\n",
    "from lib.nn import Linear, Sigmoid, NN\n",
    "from lib.metrics.losses import mean_squared_error\n",
    "\n",
    "np.random.seed(1)"
   ]
  },
  {
   "cell_type": "markdown",
   "id": "c1f0c91b-3af4-4846-a8ef-caeca53a2064",
   "metadata": {},
   "source": [
    "### Derivatives"
   ]
  },
  {
   "cell_type": "code",
   "execution_count": 2,
   "id": "f40e345c-ddf8-44e5-86ee-d87175d50640",
   "metadata": {},
   "outputs": [],
   "source": [
    "X = 5\n",
    "W = 2\n",
    "b = 0\n",
    "y = 12"
   ]
  },
  {
   "cell_type": "code",
   "execution_count": 3,
   "id": "362f4a87-61e2-4150-804b-485ef4bdcb29",
   "metadata": {},
   "outputs": [
    {
     "data": {
      "text/plain": [
       "(4, (10, -4), (2, -20), (0, -4))"
      ]
     },
     "execution_count": 3,
     "metadata": {},
     "output_type": "execute_result"
    }
   ],
   "source": [
    "Z = X*W + b\n",
    "L = (Z - y)**2\n",
    "\n",
    "dZ_dL = 2*Z - 2*y \n",
    "dW_dZ = X\n",
    "dW_dL = dZ_dL * dW_dZ\n",
    "db_dZ = 1\n",
    "db_dL = dZ_dL * db_dZ\n",
    "L, (Z,dZ_dL), (W, dW_dL), (b, db_dL)"
   ]
  },
  {
   "cell_type": "code",
   "execution_count": 4,
   "id": "5cfa34d5-cdca-4b34-9de0-35de69aa4d45",
   "metadata": {},
   "outputs": [
    {
     "data": {
      "text/plain": [
       "({0631aef9, 4, 1}, {631c775e, 10, -4}, {4e318abf, 2, -20}, {9812044e, 0, -4})"
      ]
     },
     "execution_count": 4,
     "metadata": {},
     "output_type": "execute_result"
    }
   ],
   "source": [
    "X = Value(5)\n",
    "W = Value(2)\n",
    "b = Value(0)\n",
    "\n",
    "Z = X * W + b\n",
    "\n",
    "y = Value(12)\n",
    "\n",
    "L = (Z - y) ** 2\n",
    "L.grad = 1\n",
    "L.backward()\n",
    "L, Z, W, b"
   ]
  },
  {
   "cell_type": "markdown",
   "id": "b0c70c23-4a87-43fc-9c98-bf7759b6c00a",
   "metadata": {},
   "source": [
    "### Linear operations"
   ]
  },
  {
   "cell_type": "code",
   "execution_count": 5,
   "id": "18430304-a30c-4f20-aa9d-4ac9a0209b33",
   "metadata": {},
   "outputs": [
    {
     "name": "stdout",
     "output_type": "stream",
     "text": [
      "Matrix([\n",
      "[{96f0423f, 20, 0}, {70f328bd, 23, 0}, {5a713863, 34, 0}, {2389eb5f, 14, 0}],\n",
      "[{8b9dcc11, 13, 0}, {f566e967, 11, 0}, {0e601d66, 30, 0}, {133a180c, 16, 0}]\n",
      "])\n"
     ]
    }
   ],
   "source": [
    "m1 = Matrix([\n",
    "    [1, 4, 1],\n",
    "    [2, 3, 0]\n",
    "])\n",
    "\n",
    "m2 = Matrix([\n",
    "    [1, -2, 4, 4],\n",
    "    [3, 4, 6, 1],\n",
    "    [5, 6, 2, 1]\n",
    "])\n",
    "\n",
    "v1 = Vector([2, 3, 4, 5]) \n",
    "\n",
    "print(m1.matmul(m2) + v1)"
   ]
  },
  {
   "cell_type": "markdown",
   "id": "028b58d5-d980-406e-b5fe-e230706896cf",
   "metadata": {},
   "source": [
    "# NN"
   ]
  },
  {
   "cell_type": "code",
   "execution_count": 6,
   "id": "1e294c6e-738a-49cf-8a67-797a31da419f",
   "metadata": {},
   "outputs": [],
   "source": [
    "X = Matrix(np.random.uniform(size=(10, 5)))\n",
    "y = Matrix([[1] for _ in range(10)])\n",
    "\n",
    "nn = NN([\n",
    "    Linear(5, 3),\n",
    "    Sigmoid(),\n",
    "    Linear(3, 1),\n",
    "])"
   ]
  },
  {
   "cell_type": "code",
   "execution_count": 7,
   "id": "b3350533-5c41-4032-9e0b-3a642ec29cbb",
   "metadata": {},
   "outputs": [
    {
     "name": "stdout",
     "output_type": "stream",
     "text": [
      "0 0.29\n",
      "1 0.17\n",
      "2 0.12\n",
      "3 0.11\n",
      "4 0.10\n",
      "5 0.10\n",
      "6 0.10\n",
      "7 0.09\n",
      "8 0.09\n",
      "9 0.09\n",
      "10 0.09\n",
      "11 0.09\n",
      "12 0.08\n",
      "13 0.08\n",
      "14 0.08\n",
      "15 0.08\n",
      "16 0.08\n",
      "17 0.08\n",
      "18 0.07\n",
      "19 0.07\n",
      "20 0.07\n",
      "21 0.07\n",
      "22 0.07\n",
      "23 0.07\n",
      "24 0.07\n",
      "25 0.06\n",
      "26 0.06\n",
      "27 0.06\n",
      "28 0.06\n",
      "29 0.06\n"
     ]
    }
   ],
   "source": [
    "for i in range(30):\n",
    "    for p in nn.params():\n",
    "        p.zero_grad()\n",
    "\n",
    "    out = nn(X)\n",
    "    loss = mean_squared_error(y, out)\n",
    "    print(f\"{i} {loss.data:.2f}\")\n",
    "    loss.grad = 1\n",
    "    loss.backward()\n",
    "\n",
    "    for p in nn.params():\n",
    "        for v in p.all_values():\n",
    "            v.data -= 0.1 * v.grad\n"
   ]
  },
  {
   "cell_type": "code",
   "execution_count": 8,
   "id": "40c04ba0-c222-441e-b7d5-db51159bc45c",
   "metadata": {},
   "outputs": [
    {
     "data": {
      "text/plain": [
       "(Matrix([\n",
       " [{86e2a821, 0.82, -0.04}],\n",
       " [{bb3c8a7e, 1.1, 0.02}],\n",
       " [{542fc8bf, 0.85, -0.03}],\n",
       " [{28e63973, 1.08, 0.02}],\n",
       " [{bbe70a1b, 0.83, -0.03}],\n",
       " [{6374039e, 0.69, -0.06}],\n",
       " [{c823de05, 1.44, 0.09}],\n",
       " [{e6fe04df, 1.37, 0.07}],\n",
       " [{9022facb, 0.74, -0.05}],\n",
       " [{93c135ca, 0.99, -0.0}]\n",
       " ]),\n",
       " Matrix([\n",
       " [{0869aa96, 1, 1.06}],\n",
       " [{f0195496, 1, -0.99}],\n",
       " [{2d62daf2, 1, 0.94}],\n",
       " [{4b3ac316, 1, -0.8}],\n",
       " [{e36439e4, 1, 1.02}],\n",
       " [{406435bb, 1, 1.81}],\n",
       " [{a3328af9, 1, -3.26}],\n",
       " [{89071730, 1, -2.82}],\n",
       " [{297e1e5e, 1, 1.67}],\n",
       " [{cbad1afd, 1, -0.07}]\n",
       " ]))"
      ]
     },
     "execution_count": 8,
     "metadata": {},
     "output_type": "execute_result"
    }
   ],
   "source": [
    "out, y"
   ]
  }
 ],
 "metadata": {
  "kernelspec": {
   "display_name": "Python 3.10 (venv)",
   "language": "python",
   "name": "py310"
  },
  "language_info": {
   "codemirror_mode": {
    "name": "ipython",
    "version": 3
   },
   "file_extension": ".py",
   "mimetype": "text/x-python",
   "name": "python",
   "nbconvert_exporter": "python",
   "pygments_lexer": "ipython3",
   "version": "3.10.14"
  }
 },
 "nbformat": 4,
 "nbformat_minor": 5
}
