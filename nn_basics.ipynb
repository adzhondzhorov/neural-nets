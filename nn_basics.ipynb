{
 "cells": [
  {
   "cell_type": "markdown",
   "id": "692303e6-2277-4ecc-af8b-aab20bb8ec35",
   "metadata": {},
   "source": [
    "# Derivatives, basic NN"
   ]
  },
  {
   "cell_type": "code",
   "execution_count": 1,
   "id": "d305f180-0341-45a6-8372-29188ea2d7b8",
   "metadata": {},
   "outputs": [],
   "source": [
    "import numpy as np\n",
    "\n",
    "from lib.value import Value\n",
    "from lib.linear_algebra import Vector, Matrix\n",
    "from lib.nn import Linear, Sigmoid, NN\n",
    "\n",
    "np.random.seed(1)"
   ]
  },
  {
   "cell_type": "markdown",
   "id": "c1f0c91b-3af4-4846-a8ef-caeca53a2064",
   "metadata": {},
   "source": [
    "### Derivatives"
   ]
  },
  {
   "cell_type": "code",
   "execution_count": 2,
   "id": "f40e345c-ddf8-44e5-86ee-d87175d50640",
   "metadata": {},
   "outputs": [],
   "source": [
    "X = 5\n",
    "W = 2\n",
    "b = 0\n",
    "y = 12"
   ]
  },
  {
   "cell_type": "code",
   "execution_count": 3,
   "id": "362f4a87-61e2-4150-804b-485ef4bdcb29",
   "metadata": {},
   "outputs": [
    {
     "data": {
      "text/plain": [
       "(4, (10, -4), (2, -20), (0, -4))"
      ]
     },
     "execution_count": 3,
     "metadata": {},
     "output_type": "execute_result"
    }
   ],
   "source": [
    "Z = X*W + b\n",
    "L = (Z - y)**2\n",
    "\n",
    "dZ_dL = 2*Z - 2*y \n",
    "dW_dZ = X\n",
    "dW_dL = dZ_dL * dW_dZ\n",
    "db_dZ = 1\n",
    "db_dL = dZ_dL * db_dZ\n",
    "L, (Z,dZ_dL), (W, dW_dL), (b, db_dL)"
   ]
  },
  {
   "cell_type": "code",
   "execution_count": 4,
   "id": "5cfa34d5-cdca-4b34-9de0-35de69aa4d45",
   "metadata": {},
   "outputs": [
    {
     "data": {
      "text/plain": [
       "({c5018478, 4, 1}, {e66f996e, 10, -4}, {e8be9fda, 2, -20}, {71412c19, 0, -4})"
      ]
     },
     "execution_count": 4,
     "metadata": {},
     "output_type": "execute_result"
    }
   ],
   "source": [
    "X = Value(5)\n",
    "W = Value(2)\n",
    "b = Value(0)\n",
    "\n",
    "Z = X * W + b\n",
    "\n",
    "y = Value(12)\n",
    "\n",
    "L = (Z - y) ** 2\n",
    "L.grad = 1\n",
    "L.backward()\n",
    "L, Z, W, b"
   ]
  },
  {
   "cell_type": "markdown",
   "id": "b0c70c23-4a87-43fc-9c98-bf7759b6c00a",
   "metadata": {},
   "source": [
    "### Linear operations"
   ]
  },
  {
   "cell_type": "code",
   "execution_count": 5,
   "id": "18430304-a30c-4f20-aa9d-4ac9a0209b33",
   "metadata": {},
   "outputs": [
    {
     "name": "stdout",
     "output_type": "stream",
     "text": [
      "Matrix([\n",
      "[{fb8bfb9b, 20, 0}, {48e0d270, 23, 0}, {3f144e55, 34, 0}, {002f9bd3, 14, 0}],\n",
      "[{191e0d7b, 13, 0}, {330632f9, 11, 0}, {254bb9bc, 30, 0}, {c7747a25, 16, 0}]\n",
      "])\n"
     ]
    }
   ],
   "source": [
    "m1 = Matrix([\n",
    "    [1, 4, 1],\n",
    "    [2, 3, 0]\n",
    "])\n",
    "\n",
    "m2 = Matrix([\n",
    "    [1, -2, 4, 4],\n",
    "    [3, 4, 6, 1],\n",
    "    [5, 6, 2, 1]\n",
    "])\n",
    "\n",
    "v1 = Vector([2, 3, 4, 5]) \n",
    "\n",
    "print(m1.matmul(m2) + v1)"
   ]
  },
  {
   "cell_type": "markdown",
   "id": "028b58d5-d980-406e-b5fe-e230706896cf",
   "metadata": {},
   "source": [
    "# NN"
   ]
  },
  {
   "cell_type": "code",
   "execution_count": 6,
   "id": "1e294c6e-738a-49cf-8a67-797a31da419f",
   "metadata": {},
   "outputs": [],
   "source": [
    "X = Matrix(np.random.uniform(size=(10, 5)))\n",
    "y = Matrix([[1] for _ in range(10)])\n",
    "\n",
    "nn = NN([\n",
    "    Linear(5, 3),\n",
    "    Sigmoid(),\n",
    "    Linear(3, 1),\n",
    "])"
   ]
  },
  {
   "cell_type": "code",
   "execution_count": 7,
   "id": "b3350533-5c41-4032-9e0b-3a642ec29cbb",
   "metadata": {},
   "outputs": [
    {
     "name": "stdout",
     "output_type": "stream",
     "text": [
      "0 0.29\n",
      "1 0.17\n",
      "2 0.12\n",
      "3 0.11\n",
      "4 0.10\n",
      "5 0.10\n",
      "6 0.10\n",
      "7 0.09\n",
      "8 0.09\n",
      "9 0.09\n",
      "10 0.09\n",
      "11 0.09\n",
      "12 0.08\n",
      "13 0.08\n",
      "14 0.08\n",
      "15 0.08\n",
      "16 0.08\n",
      "17 0.08\n",
      "18 0.07\n",
      "19 0.07\n",
      "20 0.07\n",
      "21 0.07\n",
      "22 0.07\n",
      "23 0.07\n",
      "24 0.07\n",
      "25 0.06\n",
      "26 0.06\n",
      "27 0.06\n",
      "28 0.06\n",
      "29 0.06\n"
     ]
    }
   ],
   "source": [
    "for i in range(30):\n",
    "    for p in nn.params():\n",
    "        p.zero_grad()\n",
    "\n",
    "    out = nn(X)\n",
    "    L = sum([i[0] for i in (y - out) ** 2]) / y.dims()[0]\n",
    "    print(f\"{i} {L.data:.2f}\")\n",
    "    L.grad = 1\n",
    "    L.backward()\n",
    "\n",
    "    for p in nn.params():\n",
    "        for v in p.all_values():\n",
    "            v.data -= 0.1 * v.grad\n"
   ]
  },
  {
   "cell_type": "code",
   "execution_count": 8,
   "id": "40c04ba0-c222-441e-b7d5-db51159bc45c",
   "metadata": {},
   "outputs": [
    {
     "data": {
      "text/plain": [
       "(Matrix([\n",
       " [{8f295e48, 0.82, -0.04}],\n",
       " [{6a653464, 1.1, 0.02}],\n",
       " [{b90f7e00, 0.85, -0.03}],\n",
       " [{2e7c4802, 1.08, 0.02}],\n",
       " [{dc8b0b52, 0.83, -0.03}],\n",
       " [{d27a9531, 0.69, -0.06}],\n",
       " [{6e3f898b, 1.44, 0.09}],\n",
       " [{639c85e8, 1.37, 0.07}],\n",
       " [{950f2413, 0.74, -0.05}],\n",
       " [{cd21f654, 0.99, -0.0}]\n",
       " ]),\n",
       " Matrix([\n",
       " [{5a487612, 1, 1.06}],\n",
       " [{52feaa53, 1, -0.99}],\n",
       " [{781bb708, 1, 0.94}],\n",
       " [{87a4e1a5, 1, -0.8}],\n",
       " [{cef002a8, 1, 1.02}],\n",
       " [{8c47edd6, 1, 1.81}],\n",
       " [{4c6aefd4, 1, -3.26}],\n",
       " [{7c47cd57, 1, -2.82}],\n",
       " [{b00bc924, 1, 1.67}],\n",
       " [{c5ae83c6, 1, -0.07}]\n",
       " ]))"
      ]
     },
     "execution_count": 8,
     "metadata": {},
     "output_type": "execute_result"
    }
   ],
   "source": [
    "out, y"
   ]
  },
  {
   "cell_type": "code",
   "execution_count": null,
   "id": "cb38fe67-a9ac-41cc-a1b7-9984cf324414",
   "metadata": {},
   "outputs": [],
   "source": []
  }
 ],
 "metadata": {
  "kernelspec": {
   "display_name": "Python 3.10 (venv)",
   "language": "python",
   "name": "py310"
  },
  "language_info": {
   "codemirror_mode": {
    "name": "ipython",
    "version": 3
   },
   "file_extension": ".py",
   "mimetype": "text/x-python",
   "name": "python",
   "nbconvert_exporter": "python",
   "pygments_lexer": "ipython3",
   "version": "3.10.14"
  }
 },
 "nbformat": 4,
 "nbformat_minor": 5
}
